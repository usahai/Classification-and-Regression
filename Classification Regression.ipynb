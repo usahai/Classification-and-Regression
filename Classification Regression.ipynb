{
 "cells": [
  {
   "cell_type": "markdown",
   "metadata": {},
   "source": [
    "### <font color='red'> Buzz Prediction on Twitter\n",
    "\n",
    "Project Description:\n",
    "- There are two different datasets for Regression and Classification tasks. Right-most column in both the datasets is a dependent variable i.e. buzz.\n",
    "- Data description files are also provided for both the datasets."
   ]
  },
  {
   "cell_type": "markdown",
   "metadata": {},
   "source": [
    "# Regression"
   ]
  },
  {
   "cell_type": "code",
   "execution_count": 2,
   "metadata": {},
   "outputs": [],
   "source": [
    "import warnings\n",
    "warnings.simplefilter('ignore')\n",
    "\n",
    "import pandas as pd\n",
    "import numpy as np\n",
    "%matplotlib inline\n",
    "import matplotlib.pyplot as plt\n",
    "import mglearn"
   ]
  },
  {
   "cell_type": "code",
   "execution_count": 3,
   "metadata": {},
   "outputs": [],
   "source": [
    "reg_data = pd.read_csv(\"Twitter.data\", header = None, names = ['NCD_0','NCD_1','NCD_2','NCD_3','NCD_4','NCD_5','NCD_6','AI_0','AI_1','AI_2','AI_3','AI_4','AI_5','AI_6','AS(NA)_0','AS(NA)_1','AS(NA)_2','AS(NA)_3','AS(NA)_4','AS(NA)_5','AS(NA)_6','BL_0','BL_1','BL_2','BL_3','BL_4','BL_5','BL_6','NAC_0','NAC_1','NAC_2','NAC_3','NAC_4','NAC_5','NAC_6','AS(NAC)_0','AS(NAC)_1','AS(NAC)_2','AS(NAC)_3','AS(NAC)_4','AS(NAC)_5','AS(NAC)_6','CS_0','CS_1','CS_2','CS_3','CS_4','CS_5','CS_6','AT_0','AT_1','AT_2','AT_3','AT_4','AT_5','AT_6','NA_0','NA_1','NA_2','NA_3','NA_4','NA_5','NA_6','ADL_0','ADL_1','ADL_2','ADL_3','ADL_4','ADL_5','ADL_6','NAD_0','NAD_1','NAD_2','NAD_3','NAD_4','NAD_5','NAD_6','Buzz'])"
   ]
  },
  {
   "cell_type": "code",
   "execution_count": 4,
   "metadata": {},
   "outputs": [
    {
     "data": {
      "text/html": [
       "<div>\n",
       "<style scoped>\n",
       "    .dataframe tbody tr th:only-of-type {\n",
       "        vertical-align: middle;\n",
       "    }\n",
       "\n",
       "    .dataframe tbody tr th {\n",
       "        vertical-align: top;\n",
       "    }\n",
       "\n",
       "    .dataframe thead th {\n",
       "        text-align: right;\n",
       "    }\n",
       "</style>\n",
       "<table border=\"1\" class=\"dataframe\">\n",
       "  <thead>\n",
       "    <tr style=\"text-align: right;\">\n",
       "      <th></th>\n",
       "      <th>NCD_0</th>\n",
       "      <th>NCD_1</th>\n",
       "      <th>NCD_2</th>\n",
       "      <th>NCD_3</th>\n",
       "      <th>NCD_4</th>\n",
       "      <th>NCD_5</th>\n",
       "      <th>NCD_6</th>\n",
       "      <th>AI_0</th>\n",
       "      <th>AI_1</th>\n",
       "      <th>AI_2</th>\n",
       "      <th>...</th>\n",
       "      <th>ADL_5</th>\n",
       "      <th>ADL_6</th>\n",
       "      <th>NAD_0</th>\n",
       "      <th>NAD_1</th>\n",
       "      <th>NAD_2</th>\n",
       "      <th>NAD_3</th>\n",
       "      <th>NAD_4</th>\n",
       "      <th>NAD_5</th>\n",
       "      <th>NAD_6</th>\n",
       "      <th>Buzz</th>\n",
       "    </tr>\n",
       "  </thead>\n",
       "  <tbody>\n",
       "    <tr>\n",
       "      <th>0</th>\n",
       "      <td>0</td>\n",
       "      <td>2</td>\n",
       "      <td>0</td>\n",
       "      <td>0</td>\n",
       "      <td>1</td>\n",
       "      <td>1</td>\n",
       "      <td>1</td>\n",
       "      <td>0</td>\n",
       "      <td>1</td>\n",
       "      <td>0</td>\n",
       "      <td>...</td>\n",
       "      <td>1.0</td>\n",
       "      <td>1.0</td>\n",
       "      <td>0</td>\n",
       "      <td>2</td>\n",
       "      <td>0</td>\n",
       "      <td>0</td>\n",
       "      <td>1</td>\n",
       "      <td>1</td>\n",
       "      <td>1</td>\n",
       "      <td>0.0</td>\n",
       "    </tr>\n",
       "    <tr>\n",
       "      <th>1</th>\n",
       "      <td>2</td>\n",
       "      <td>1</td>\n",
       "      <td>0</td>\n",
       "      <td>0</td>\n",
       "      <td>0</td>\n",
       "      <td>0</td>\n",
       "      <td>4</td>\n",
       "      <td>2</td>\n",
       "      <td>1</td>\n",
       "      <td>0</td>\n",
       "      <td>...</td>\n",
       "      <td>0.0</td>\n",
       "      <td>1.0</td>\n",
       "      <td>2</td>\n",
       "      <td>1</td>\n",
       "      <td>0</td>\n",
       "      <td>0</td>\n",
       "      <td>0</td>\n",
       "      <td>0</td>\n",
       "      <td>4</td>\n",
       "      <td>0.5</td>\n",
       "    </tr>\n",
       "    <tr>\n",
       "      <th>2</th>\n",
       "      <td>1</td>\n",
       "      <td>0</td>\n",
       "      <td>0</td>\n",
       "      <td>0</td>\n",
       "      <td>0</td>\n",
       "      <td>4</td>\n",
       "      <td>1</td>\n",
       "      <td>1</td>\n",
       "      <td>0</td>\n",
       "      <td>0</td>\n",
       "      <td>...</td>\n",
       "      <td>1.0</td>\n",
       "      <td>1.0</td>\n",
       "      <td>1</td>\n",
       "      <td>0</td>\n",
       "      <td>0</td>\n",
       "      <td>0</td>\n",
       "      <td>0</td>\n",
       "      <td>4</td>\n",
       "      <td>1</td>\n",
       "      <td>0.0</td>\n",
       "    </tr>\n",
       "    <tr>\n",
       "      <th>3</th>\n",
       "      <td>1</td>\n",
       "      <td>0</td>\n",
       "      <td>0</td>\n",
       "      <td>1</td>\n",
       "      <td>0</td>\n",
       "      <td>0</td>\n",
       "      <td>1</td>\n",
       "      <td>1</td>\n",
       "      <td>0</td>\n",
       "      <td>0</td>\n",
       "      <td>...</td>\n",
       "      <td>0.0</td>\n",
       "      <td>1.0</td>\n",
       "      <td>1</td>\n",
       "      <td>0</td>\n",
       "      <td>0</td>\n",
       "      <td>1</td>\n",
       "      <td>0</td>\n",
       "      <td>0</td>\n",
       "      <td>1</td>\n",
       "      <td>2.5</td>\n",
       "    </tr>\n",
       "    <tr>\n",
       "      <th>4</th>\n",
       "      <td>0</td>\n",
       "      <td>1</td>\n",
       "      <td>0</td>\n",
       "      <td>0</td>\n",
       "      <td>1</td>\n",
       "      <td>2</td>\n",
       "      <td>3</td>\n",
       "      <td>0</td>\n",
       "      <td>1</td>\n",
       "      <td>0</td>\n",
       "      <td>...</td>\n",
       "      <td>1.0</td>\n",
       "      <td>1.0</td>\n",
       "      <td>0</td>\n",
       "      <td>1</td>\n",
       "      <td>0</td>\n",
       "      <td>0</td>\n",
       "      <td>1</td>\n",
       "      <td>2</td>\n",
       "      <td>3</td>\n",
       "      <td>0.5</td>\n",
       "    </tr>\n",
       "  </tbody>\n",
       "</table>\n",
       "<p>5 rows × 78 columns</p>\n",
       "</div>"
      ],
      "text/plain": [
       "   NCD_0  NCD_1  NCD_2  NCD_3  NCD_4  NCD_5  NCD_6  AI_0  AI_1  AI_2  ...   \\\n",
       "0      0      2      0      0      1      1      1     0     1     0  ...    \n",
       "1      2      1      0      0      0      0      4     2     1     0  ...    \n",
       "2      1      0      0      0      0      4      1     1     0     0  ...    \n",
       "3      1      0      0      1      0      0      1     1     0     0  ...    \n",
       "4      0      1      0      0      1      2      3     0     1     0  ...    \n",
       "\n",
       "   ADL_5  ADL_6  NAD_0  NAD_1  NAD_2  NAD_3  NAD_4  NAD_5  NAD_6  Buzz  \n",
       "0    1.0    1.0      0      2      0      0      1      1      1   0.0  \n",
       "1    0.0    1.0      2      1      0      0      0      0      4   0.5  \n",
       "2    1.0    1.0      1      0      0      0      0      4      1   0.0  \n",
       "3    0.0    1.0      1      0      0      1      0      0      1   2.5  \n",
       "4    1.0    1.0      0      1      0      0      1      2      3   0.5  \n",
       "\n",
       "[5 rows x 78 columns]"
      ]
     },
     "execution_count": 4,
     "metadata": {},
     "output_type": "execute_result"
    }
   ],
   "source": [
    "reg_data.head()"
   ]
  },
  {
   "cell_type": "code",
   "execution_count": 5,
   "metadata": {
    "scrolled": true
   },
   "outputs": [
    {
     "name": "stdout",
     "output_type": "stream",
     "text": [
      "<class 'pandas.core.frame.DataFrame'>\n",
      "RangeIndex: 583250 entries, 0 to 583249\n",
      "Data columns (total 78 columns):\n",
      "NCD_0        583250 non-null int64\n",
      "NCD_1        583250 non-null int64\n",
      "NCD_2        583250 non-null int64\n",
      "NCD_3        583250 non-null int64\n",
      "NCD_4        583250 non-null int64\n",
      "NCD_5        583250 non-null int64\n",
      "NCD_6        583250 non-null int64\n",
      "AI_0         583250 non-null int64\n",
      "AI_1         583250 non-null int64\n",
      "AI_2         583250 non-null int64\n",
      "AI_3         583250 non-null int64\n",
      "AI_4         583250 non-null int64\n",
      "AI_5         583250 non-null int64\n",
      "AI_6         583250 non-null int64\n",
      "AS(NA)_0     583250 non-null float64\n",
      "AS(NA)_1     583250 non-null float64\n",
      "AS(NA)_2     583250 non-null float64\n",
      "AS(NA)_3     583250 non-null float64\n",
      "AS(NA)_4     583250 non-null float64\n",
      "AS(NA)_5     583250 non-null float64\n",
      "AS(NA)_6     583250 non-null float64\n",
      "BL_0         583250 non-null float64\n",
      "BL_1         583250 non-null float64\n",
      "BL_2         583250 non-null float64\n",
      "BL_3         583250 non-null float64\n",
      "BL_4         583250 non-null float64\n",
      "BL_5         583250 non-null float64\n",
      "BL_6         583250 non-null float64\n",
      "NAC_0        583250 non-null int64\n",
      "NAC_1        583250 non-null int64\n",
      "NAC_2        583250 non-null int64\n",
      "NAC_3        583250 non-null int64\n",
      "NAC_4        583250 non-null int64\n",
      "NAC_5        583250 non-null int64\n",
      "NAC_6        583250 non-null int64\n",
      "AS(NAC)_0    583250 non-null float64\n",
      "AS(NAC)_1    583250 non-null float64\n",
      "AS(NAC)_2    583250 non-null float64\n",
      "AS(NAC)_3    583250 non-null float64\n",
      "AS(NAC)_4    583250 non-null float64\n",
      "AS(NAC)_5    583250 non-null float64\n",
      "AS(NAC)_6    583250 non-null float64\n",
      "CS_0         583250 non-null float64\n",
      "CS_1         583250 non-null float64\n",
      "CS_2         583250 non-null float64\n",
      "CS_3         583250 non-null float64\n",
      "CS_4         583250 non-null float64\n",
      "CS_5         583250 non-null float64\n",
      "CS_6         583250 non-null float64\n",
      "AT_0         583250 non-null float64\n",
      "AT_1         583250 non-null float64\n",
      "AT_2         583250 non-null float64\n",
      "AT_3         583250 non-null float64\n",
      "AT_4         583250 non-null float64\n",
      "AT_5         583250 non-null float64\n",
      "AT_6         583250 non-null float64\n",
      "NA_0         583250 non-null int64\n",
      "NA_1         583250 non-null int64\n",
      "NA_2         583250 non-null int64\n",
      "NA_3         583250 non-null int64\n",
      "NA_4         583250 non-null int64\n",
      "NA_5         583250 non-null int64\n",
      "NA_6         583250 non-null int64\n",
      "ADL_0        583250 non-null float64\n",
      "ADL_1        583250 non-null float64\n",
      "ADL_2        583250 non-null float64\n",
      "ADL_3        583250 non-null float64\n",
      "ADL_4        583250 non-null float64\n",
      "ADL_5        583250 non-null float64\n",
      "ADL_6        583250 non-null float64\n",
      "NAD_0        583250 non-null int64\n",
      "NAD_1        583250 non-null int64\n",
      "NAD_2        583250 non-null int64\n",
      "NAD_3        583250 non-null int64\n",
      "NAD_4        583250 non-null int64\n",
      "NAD_5        583250 non-null int64\n",
      "NAD_6        583250 non-null int64\n",
      "Buzz         583250 non-null float64\n",
      "dtypes: float64(43), int64(35)\n",
      "memory usage: 347.1 MB\n"
     ]
    }
   ],
   "source": [
    "reg_data.info()"
   ]
  },
  {
   "cell_type": "code",
   "execution_count": 6,
   "metadata": {},
   "outputs": [
    {
     "data": {
      "text/html": [
       "<div>\n",
       "<style scoped>\n",
       "    .dataframe tbody tr th:only-of-type {\n",
       "        vertical-align: middle;\n",
       "    }\n",
       "\n",
       "    .dataframe tbody tr th {\n",
       "        vertical-align: top;\n",
       "    }\n",
       "\n",
       "    .dataframe thead th {\n",
       "        text-align: right;\n",
       "    }\n",
       "</style>\n",
       "<table border=\"1\" class=\"dataframe\">\n",
       "  <thead>\n",
       "    <tr style=\"text-align: right;\">\n",
       "      <th></th>\n",
       "      <th>NCD_0</th>\n",
       "      <th>NCD_1</th>\n",
       "      <th>NCD_2</th>\n",
       "      <th>NCD_3</th>\n",
       "      <th>NCD_4</th>\n",
       "      <th>NCD_5</th>\n",
       "      <th>NCD_6</th>\n",
       "      <th>AI_0</th>\n",
       "      <th>AI_1</th>\n",
       "      <th>AI_2</th>\n",
       "      <th>...</th>\n",
       "      <th>ADL_5</th>\n",
       "      <th>ADL_6</th>\n",
       "      <th>NAD_0</th>\n",
       "      <th>NAD_1</th>\n",
       "      <th>NAD_2</th>\n",
       "      <th>NAD_3</th>\n",
       "      <th>NAD_4</th>\n",
       "      <th>NAD_5</th>\n",
       "      <th>NAD_6</th>\n",
       "      <th>Buzz</th>\n",
       "    </tr>\n",
       "  </thead>\n",
       "  <tbody>\n",
       "    <tr>\n",
       "      <th>count</th>\n",
       "      <td>583250.000000</td>\n",
       "      <td>583250.000000</td>\n",
       "      <td>583250.000000</td>\n",
       "      <td>583250.000000</td>\n",
       "      <td>583250.000000</td>\n",
       "      <td>583250.000000</td>\n",
       "      <td>583250.000000</td>\n",
       "      <td>583250.000000</td>\n",
       "      <td>583250.000000</td>\n",
       "      <td>583250.000000</td>\n",
       "      <td>...</td>\n",
       "      <td>583250.000000</td>\n",
       "      <td>583250.000000</td>\n",
       "      <td>583250.000000</td>\n",
       "      <td>583250.000000</td>\n",
       "      <td>583250.000000</td>\n",
       "      <td>583250.000000</td>\n",
       "      <td>583250.000000</td>\n",
       "      <td>583250.000000</td>\n",
       "      <td>583250.000000</td>\n",
       "      <td>583250.000000</td>\n",
       "    </tr>\n",
       "    <tr>\n",
       "      <th>mean</th>\n",
       "      <td>140.339640</td>\n",
       "      <td>136.770147</td>\n",
       "      <td>159.679271</td>\n",
       "      <td>181.592091</td>\n",
       "      <td>201.097445</td>\n",
       "      <td>220.175371</td>\n",
       "      <td>219.388214</td>\n",
       "      <td>71.038051</td>\n",
       "      <td>69.829631</td>\n",
       "      <td>82.198203</td>\n",
       "      <td>...</td>\n",
       "      <td>1.136688</td>\n",
       "      <td>1.140372</td>\n",
       "      <td>140.789860</td>\n",
       "      <td>137.181270</td>\n",
       "      <td>160.105922</td>\n",
       "      <td>182.057440</td>\n",
       "      <td>201.596482</td>\n",
       "      <td>220.705900</td>\n",
       "      <td>219.936864</td>\n",
       "      <td>191.279493</td>\n",
       "    </tr>\n",
       "    <tr>\n",
       "      <th>std</th>\n",
       "      <td>431.772639</td>\n",
       "      <td>432.305129</td>\n",
       "      <td>502.057428</td>\n",
       "      <td>574.883713</td>\n",
       "      <td>630.448432</td>\n",
       "      <td>669.205930</td>\n",
       "      <td>672.182204</td>\n",
       "      <td>196.876718</td>\n",
       "      <td>202.199758</td>\n",
       "      <td>239.523042</td>\n",
       "      <td>...</td>\n",
       "      <td>1.432327</td>\n",
       "      <td>1.552313</td>\n",
       "      <td>432.624954</td>\n",
       "      <td>433.026611</td>\n",
       "      <td>502.774408</td>\n",
       "      <td>575.658022</td>\n",
       "      <td>631.258318</td>\n",
       "      <td>670.050977</td>\n",
       "      <td>673.032541</td>\n",
       "      <td>612.352354</td>\n",
       "    </tr>\n",
       "    <tr>\n",
       "      <th>min</th>\n",
       "      <td>0.000000</td>\n",
       "      <td>0.000000</td>\n",
       "      <td>0.000000</td>\n",
       "      <td>0.000000</td>\n",
       "      <td>0.000000</td>\n",
       "      <td>0.000000</td>\n",
       "      <td>0.000000</td>\n",
       "      <td>0.000000</td>\n",
       "      <td>0.000000</td>\n",
       "      <td>0.000000</td>\n",
       "      <td>...</td>\n",
       "      <td>0.000000</td>\n",
       "      <td>0.000000</td>\n",
       "      <td>0.000000</td>\n",
       "      <td>0.000000</td>\n",
       "      <td>0.000000</td>\n",
       "      <td>0.000000</td>\n",
       "      <td>0.000000</td>\n",
       "      <td>0.000000</td>\n",
       "      <td>0.000000</td>\n",
       "      <td>0.000000</td>\n",
       "    </tr>\n",
       "    <tr>\n",
       "      <th>25%</th>\n",
       "      <td>3.000000</td>\n",
       "      <td>3.000000</td>\n",
       "      <td>4.000000</td>\n",
       "      <td>4.000000</td>\n",
       "      <td>5.000000</td>\n",
       "      <td>6.000000</td>\n",
       "      <td>6.000000</td>\n",
       "      <td>2.000000</td>\n",
       "      <td>2.000000</td>\n",
       "      <td>2.000000</td>\n",
       "      <td>...</td>\n",
       "      <td>1.000000</td>\n",
       "      <td>1.000000</td>\n",
       "      <td>3.000000</td>\n",
       "      <td>3.000000</td>\n",
       "      <td>4.000000</td>\n",
       "      <td>4.000000</td>\n",
       "      <td>5.000000</td>\n",
       "      <td>6.000000</td>\n",
       "      <td>6.000000</td>\n",
       "      <td>4.500000</td>\n",
       "    </tr>\n",
       "    <tr>\n",
       "      <th>50%</th>\n",
       "      <td>18.000000</td>\n",
       "      <td>17.000000</td>\n",
       "      <td>21.000000</td>\n",
       "      <td>24.000000</td>\n",
       "      <td>27.000000</td>\n",
       "      <td>31.000000</td>\n",
       "      <td>30.000000</td>\n",
       "      <td>11.000000</td>\n",
       "      <td>11.000000</td>\n",
       "      <td>13.000000</td>\n",
       "      <td>...</td>\n",
       "      <td>1.000000</td>\n",
       "      <td>1.000000</td>\n",
       "      <td>18.000000</td>\n",
       "      <td>17.000000</td>\n",
       "      <td>21.000000</td>\n",
       "      <td>24.000000</td>\n",
       "      <td>27.000000</td>\n",
       "      <td>31.000000</td>\n",
       "      <td>31.000000</td>\n",
       "      <td>25.500000</td>\n",
       "    </tr>\n",
       "    <tr>\n",
       "      <th>75%</th>\n",
       "      <td>104.000000</td>\n",
       "      <td>100.000000</td>\n",
       "      <td>115.000000</td>\n",
       "      <td>131.000000</td>\n",
       "      <td>147.000000</td>\n",
       "      <td>166.000000</td>\n",
       "      <td>164.000000</td>\n",
       "      <td>59.000000</td>\n",
       "      <td>57.000000</td>\n",
       "      <td>65.000000</td>\n",
       "      <td>...</td>\n",
       "      <td>1.090909</td>\n",
       "      <td>1.091296</td>\n",
       "      <td>104.000000</td>\n",
       "      <td>101.000000</td>\n",
       "      <td>115.000000</td>\n",
       "      <td>131.000000</td>\n",
       "      <td>148.000000</td>\n",
       "      <td>167.000000</td>\n",
       "      <td>165.000000</td>\n",
       "      <td>139.000000</td>\n",
       "    </tr>\n",
       "    <tr>\n",
       "      <th>max</th>\n",
       "      <td>24210.000000</td>\n",
       "      <td>29574.000000</td>\n",
       "      <td>37505.000000</td>\n",
       "      <td>72366.000000</td>\n",
       "      <td>79079.000000</td>\n",
       "      <td>79079.000000</td>\n",
       "      <td>79079.000000</td>\n",
       "      <td>18654.000000</td>\n",
       "      <td>22035.000000</td>\n",
       "      <td>29402.000000</td>\n",
       "      <td>...</td>\n",
       "      <td>262.000000</td>\n",
       "      <td>295.000000</td>\n",
       "      <td>24301.000000</td>\n",
       "      <td>29574.000000</td>\n",
       "      <td>37505.000000</td>\n",
       "      <td>72366.000000</td>\n",
       "      <td>79083.000000</td>\n",
       "      <td>79083.000000</td>\n",
       "      <td>79083.000000</td>\n",
       "      <td>75724.500000</td>\n",
       "    </tr>\n",
       "  </tbody>\n",
       "</table>\n",
       "<p>8 rows × 78 columns</p>\n",
       "</div>"
      ],
      "text/plain": [
       "               NCD_0          NCD_1          NCD_2          NCD_3  \\\n",
       "count  583250.000000  583250.000000  583250.000000  583250.000000   \n",
       "mean      140.339640     136.770147     159.679271     181.592091   \n",
       "std       431.772639     432.305129     502.057428     574.883713   \n",
       "min         0.000000       0.000000       0.000000       0.000000   \n",
       "25%         3.000000       3.000000       4.000000       4.000000   \n",
       "50%        18.000000      17.000000      21.000000      24.000000   \n",
       "75%       104.000000     100.000000     115.000000     131.000000   \n",
       "max     24210.000000   29574.000000   37505.000000   72366.000000   \n",
       "\n",
       "               NCD_4          NCD_5          NCD_6           AI_0  \\\n",
       "count  583250.000000  583250.000000  583250.000000  583250.000000   \n",
       "mean      201.097445     220.175371     219.388214      71.038051   \n",
       "std       630.448432     669.205930     672.182204     196.876718   \n",
       "min         0.000000       0.000000       0.000000       0.000000   \n",
       "25%         5.000000       6.000000       6.000000       2.000000   \n",
       "50%        27.000000      31.000000      30.000000      11.000000   \n",
       "75%       147.000000     166.000000     164.000000      59.000000   \n",
       "max     79079.000000   79079.000000   79079.000000   18654.000000   \n",
       "\n",
       "                AI_1           AI_2      ...                ADL_5  \\\n",
       "count  583250.000000  583250.000000      ...        583250.000000   \n",
       "mean       69.829631      82.198203      ...             1.136688   \n",
       "std       202.199758     239.523042      ...             1.432327   \n",
       "min         0.000000       0.000000      ...             0.000000   \n",
       "25%         2.000000       2.000000      ...             1.000000   \n",
       "50%        11.000000      13.000000      ...             1.000000   \n",
       "75%        57.000000      65.000000      ...             1.090909   \n",
       "max     22035.000000   29402.000000      ...           262.000000   \n",
       "\n",
       "               ADL_6          NAD_0          NAD_1          NAD_2  \\\n",
       "count  583250.000000  583250.000000  583250.000000  583250.000000   \n",
       "mean        1.140372     140.789860     137.181270     160.105922   \n",
       "std         1.552313     432.624954     433.026611     502.774408   \n",
       "min         0.000000       0.000000       0.000000       0.000000   \n",
       "25%         1.000000       3.000000       3.000000       4.000000   \n",
       "50%         1.000000      18.000000      17.000000      21.000000   \n",
       "75%         1.091296     104.000000     101.000000     115.000000   \n",
       "max       295.000000   24301.000000   29574.000000   37505.000000   \n",
       "\n",
       "               NAD_3          NAD_4          NAD_5          NAD_6  \\\n",
       "count  583250.000000  583250.000000  583250.000000  583250.000000   \n",
       "mean      182.057440     201.596482     220.705900     219.936864   \n",
       "std       575.658022     631.258318     670.050977     673.032541   \n",
       "min         0.000000       0.000000       0.000000       0.000000   \n",
       "25%         4.000000       5.000000       6.000000       6.000000   \n",
       "50%        24.000000      27.000000      31.000000      31.000000   \n",
       "75%       131.000000     148.000000     167.000000     165.000000   \n",
       "max     72366.000000   79083.000000   79083.000000   79083.000000   \n",
       "\n",
       "                Buzz  \n",
       "count  583250.000000  \n",
       "mean      191.279493  \n",
       "std       612.352354  \n",
       "min         0.000000  \n",
       "25%         4.500000  \n",
       "50%        25.500000  \n",
       "75%       139.000000  \n",
       "max     75724.500000  \n",
       "\n",
       "[8 rows x 78 columns]"
      ]
     },
     "execution_count": 6,
     "metadata": {},
     "output_type": "execute_result"
    }
   ],
   "source": [
    "reg_data.describe()"
   ]
  },
  {
   "cell_type": "markdown",
   "metadata": {},
   "source": [
    "## Data Leakage"
   ]
  },
  {
   "cell_type": "code",
   "execution_count": 7,
   "metadata": {},
   "outputs": [
    {
     "name": "stdout",
     "output_type": "stream",
     "text": [
      "[0.8833155443443067, 0.8898837376563945, 0.8751676884451048, 0.8730600966594706, 0.8862617359286312, 0.9185645412746013, 0.9553295886490557, 0.7865909480947977, 0.7860654492055676, 0.7693692574989077, 0.7565560214934793, 0.7562185053214157, 0.7868145889574167, 0.8237510963301806, 0.8433572774123586, 0.8402291403486734, 0.8192253372791539, 0.8082579519210333, 0.8036910395207559, 0.8143807201206573, 0.8355973985862507, 0.0851473529275373, 0.07745903272873246, 0.09117479755212841, 0.08504087154787025, 0.07943779622388142, 0.06362667017625932, 0.06512638917834854, 0.8755331607773036, 0.8835891065751136, 0.8698432470483437, 0.8693013763593938, 0.8833273481338701, 0.9151097701151432, 0.9518090542900172, 0.8539916264226788, 0.850497709936626, 0.8377564912527721, 0.8340529311348905, 0.8334539919539738, 0.8450926583688018, 0.8663135588898918, 0.08297451196377098, 0.07566439032078387, 0.08956021379161967, 0.08307780913378349, 0.077112981960014, 0.06051960590748508, 0.061593327441800474, 0.010956962758507615, 0.009756317937546659, 0.016897727221148823, 0.01183285510929456, 0.007521959466693207, -0.0003927980848188343, -0.0007863847070914447, 0.8435211622732435, 0.8508401322768148, 0.8331935538661135, 0.8290347857995302, 0.8388342384856834, 0.8684210731423979, 0.905061264910255, 0.0061258483541157495, 0.005530793490722359, 0.010893601888596078, 0.005530809829885631, 0.0011113479633759167, -0.007130747676853843, -0.007004524299105648, 0.8830733293553175, 0.8897444820048038, 0.8750989731067281, 0.873026240213757, 0.8862510755544456, 0.9185332890098293, 0.9552986557359879]\n"
     ]
    }
   ],
   "source": [
    "X = reg_data.drop(['Buzz'], axis=1)\n",
    "Y = reg_data['Buzz']\n",
    "\n",
    "columns = X.values\n",
    "target = Y.values\n",
    "\n",
    "corr_list = [];\n",
    "for i in range(0,77):\n",
    "   corr_list.append(np.corrcoef(columns[:,i] , target)[0,1])\n",
    "\n",
    "print(corr_list)"
   ]
  },
  {
   "cell_type": "markdown",
   "metadata": {},
   "source": [
    "## Creating Random Sample\n",
    "We used only 1% of the data because with 10%, the models took an extremely long time to execute."
   ]
  },
  {
   "cell_type": "code",
   "execution_count": 8,
   "metadata": {},
   "outputs": [
    {
     "data": {
      "text/plain": [
       "(5833, 77)"
      ]
     },
     "execution_count": 8,
     "metadata": {},
     "output_type": "execute_result"
    }
   ],
   "source": [
    "from sklearn.model_selection import train_test_split\n",
    "\n",
    "_, sample_data, _, sample_target = train_test_split(X, Y, shuffle = True, test_size = 0.01, random_state = 0)\n",
    "\n",
    "sample_data.shape"
   ]
  },
  {
   "cell_type": "markdown",
   "metadata": {},
   "source": [
    "## Scaling\n",
    "MinMaxScaler is used because it does not change the underlying behavior of the data."
   ]
  },
  {
   "cell_type": "code",
   "execution_count": 9,
   "metadata": {},
   "outputs": [],
   "source": [
    "from sklearn.preprocessing import MinMaxScaler\n",
    "\n",
    "X_train_org, X_test_org, y_train, y_test = train_test_split(sample_data, sample_target, random_state = 0)\n",
    "scaler = MinMaxScaler()\n",
    "X_train = scaler.fit_transform(X_train_org)\n",
    "X_test = scaler.transform(X_test_org)"
   ]
  },
  {
   "cell_type": "code",
   "execution_count": 10,
   "metadata": {},
   "outputs": [],
   "source": [
    "from sklearn.model_selection import GridSearchCV"
   ]
  },
  {
   "cell_type": "markdown",
   "metadata": {},
   "source": [
    "## K Neighbors Regressor"
   ]
  },
  {
   "cell_type": "code",
   "execution_count": 31,
   "metadata": {},
   "outputs": [
    {
     "name": "stdout",
     "output_type": "stream",
     "text": [
      "Best parameters: {'n_neighbors': 1}\n",
      "Best cross-validation score: 0.87\n",
      "Test set score: 0.79\n"
     ]
    }
   ],
   "source": [
    "from sklearn.neighbors import KNeighborsRegressor\n",
    "\n",
    "knn_reg = KNeighborsRegressor()\n",
    "knn_reg_param_grid = {'n_neighbors': [1, 5, 10, 15, 20]}\n",
    "knn_reg_grid_search = GridSearchCV(knn_reg, knn_reg_param_grid, c=5, return_train_score=True)\n",
    "knn_reg_grid_search.fit(X_train, y_train)\n",
    "\n",
    "print(\"Best parameter: {}\".format(knn_reg_grid_search.best_params_))\n",
    "print(\"Best cross-validation score: {:.2f}\".format(knn_reg_grid_search.best_score_))\n",
    "print(\"Test set score: {:.2f}\".format(knn_reg_grid_search.score(X_test, y_test)))\n",
    "\n",
    "report_table = [['K Neighbors Regressor', knn_reg_grid_search.best_params_, knn_reg_grid_search.score(X_train, y_train), knn_reg_grid_search.score(X_test, y_test)]]"
   ]
  },
  {
   "cell_type": "code",
   "execution_count": 32,
   "metadata": {},
   "outputs": [
    {
     "data": {
      "text/plain": [
       "([<matplotlib.axis.XTick at 0x186811f4898>,\n",
       "  <matplotlib.axis.XTick at 0x186811f41d0>,\n",
       "  <matplotlib.axis.XTick at 0x186811ef9e8>,\n",
       "  <matplotlib.axis.XTick at 0x186812135f8>,\n",
       "  <matplotlib.axis.XTick at 0x18681213ac8>],\n",
       " <a list of 5 Text xticklabel objects>)"
      ]
     },
     "execution_count": 32,
     "metadata": {},
     "output_type": "execute_result"
    },
    {
     "data": {
      "image/png": "[encoded data removed]",
      "text/plain": [
       "<Figure size 432x288 with 1 Axes>"
      ]
     },
     "metadata": {
      "needs_background": "light"
     },
     "output_type": "display_data"
    }
   ],
   "source": [
    "results = pd.DataFrame(knn_reg_grid_search.cv_results_)\n",
    "test_scores = np.array(results.mean_test_score)\n",
    "train_scores = np.array(results.mean_train_score)\n",
    "\n",
    "x_axis = range(1,6)\n",
    "my_xticks = knn_reg_param_grid['n_neighbors']\n",
    "plt.plot(x_axis, train_scores, c = 'g', label = 'Train Score')\n",
    "plt.plot(x_axis, test_scores, c = 'b', label = 'Test Score')\n",
    "plt.legend()\n",
    "plt.xlabel('k')\n",
    "plt.ylabel('MSE')\n",
    "plt.xticks(x_axis, my_xticks)"
   ]
  },
  {
   "cell_type": "markdown",
   "metadata": {},
   "source": [
    "## Linear Regression"
   ]
  },
  {
   "cell_type": "code",
   "execution_count": 14,
   "metadata": {},
   "outputs": [
    {
     "name": "stdout",
     "output_type": "stream",
     "text": [
      "Best parameters: {}\n",
      "Best cross-validation score: 0.95\n",
      "Test set score: 0.94\n"
     ]
    }
   ],
   "source": [
    "from sklearn.linear_model import LinearRegression\n",
    "\n",
    "lreg = LinearRegression()\n",
    "lreg_param_grid = {}\n",
    "lreg_grid_search = GridSearchCV(lreg, lreg_param_grid, cv=5, return_train_score=True)\n",
    "lreg_grid_search.fit(X_train, y_train)\n",
    "\n",
    "print(\"Best parameters: {}\".format(lreg_grid_search.best_params_))\n",
    "print(\"Best cross-validation score: {:.2f}\".format(lreg_grid_search.best_score_))\n",
    "print(\"Test set score: {:.2f}\".format(lreg_grid_search.score(X_test, y_test)))\n",
    "\n",
    "report_table = report_table + [['Linear Regression', lreg_grid_search.best_params_, lreg_grid_search.best_score_, lreg_grid_search.score(X_test, y_test)]]"
   ]
  },
  {
   "cell_type": "code",
   "execution_count": 15,
   "metadata": {},
   "outputs": [
    {
     "data": {
      "text/plain": [
       "Text(0.5, 0, 'RM')"
      ]
     },
     "execution_count": 15,
     "metadata": {},
     "output_type": "execute_result"
    },
    {
     "data": {
      "image/png": "[encoded data removed]",
      "text/plain": [
       "<Figure size 432x288 with 1 Axes>"
      ]
     },
     "metadata": {
      "needs_background": "light"
     },
     "output_type": "display_data"
    }
   ],
   "source": [
    "X_train_rm = X_train[:,76].reshape(-1,1)\n",
    "lreg_grid_search.fit(X_train_rm, y_train)\n",
    "y_predict = lreg_grid_search.predict(X_train_rm)\n",
    "\n",
    "plt.plot(X_train_rm, y_predict, c = 'r')\n",
    "plt.scatter(X_train_rm,y_train)\n",
    "plt.xlabel('RM')"
   ]
  },
  {
   "cell_type": "markdown",
   "metadata": {},
   "source": [
    "## Polynomial Regression"
   ]
  },
  {
   "cell_type": "code",
   "execution_count": 35,
   "metadata": {},
   "outputs": [
    {
     "name": "stdout",
     "output_type": "stream",
     "text": [
      "Best parameters: {'poly__degree': 1}\n",
      "Best cross-validation score: 0.95\n",
      "Test set score: 0.94\n"
     ]
    }
   ],
   "source": [
    "from  sklearn.preprocessing  import PolynomialFeatures\n",
    "from sklearn.pipeline import Pipeline\n",
    "\n",
    "\n",
    "pipe = Pipeline([('poly', PolynomialFeatures()), ('lreg', LinearRegression())])\n",
    "poly_param_grid = {'poly__degree': [1, 2]}\n",
    "poly_grid_search = GridSearchCV(pipe, poly_param_grid, cv=5, return_train_score=True)\n",
    "poly_grid_search.fit(X_train, y_train)\n",
    "\n",
    "print(\"Best parameters: {}\".format(poly_grid_search.best_params_))\n",
    "print(\"Best cross-validation score: {:.2f}\".format(poly_grid_search.best_score_))\n",
    "print(\"Test set score: {:.2f}\".format(poly_grid_search.score(X_test, y_test)))\n",
    "\n",
    "report_table = report_table + [['Polynomial Regression', poly_grid_search.best_params_, poly_grid_search.best_score_, poly_grid_search.score(X_test, y_test)]]"
   ]
  },
  {
   "cell_type": "code",
   "execution_count": 17,
   "metadata": {},
   "outputs": [
    {
     "data": {
      "text/plain": [
       "([<matplotlib.axis.XTick at 0x186d88712b0>,\n",
       "  <matplotlib.axis.XTick at 0x186d8854a20>],\n",
       " <a list of 2 Text xticklabel objects>)"
      ]
     },
     "execution_count": 17,
     "metadata": {},
     "output_type": "execute_result"
    },
    {
     "data": {
      "image/png": "[encoded data removed]",
      "text/plain": [
       "<Figure size 432x288 with 1 Axes>"
      ]
     },
     "metadata": {
      "needs_background": "light"
     },
     "output_type": "display_data"
    }
   ],
   "source": [
    "results = pd.DataFrame(poly_grid_search.cv_results_)\n",
    "test_scores = np.array(results.mean_test_score)\n",
    "train_scores = np.array(results.mean_train_score)\n",
    "\n",
    "x_axis = range(1,3)\n",
    "my_xticks = poly_param_grid['poly__degree']\n",
    "plt.plot(x_axis, train_scores, c = 'g', label = 'Train Score')\n",
    "plt.plot(x_axis, test_scores, c = 'b', label = 'Test Score')\n",
    "plt.legend()\n",
    "plt.xlabel('degree')\n",
    "plt.ylabel('accuracy')\n",
    "plt.xticks(x_axis, my_xticks)"
   ]
  },
  {
   "cell_type": "markdown",
   "metadata": {},
   "source": [
    "## Ridge"
   ]
  },
  {
   "cell_type": "code",
   "execution_count": 18,
   "metadata": {},
   "outputs": [
    {
     "name": "stdout",
     "output_type": "stream",
     "text": [
      "Best parameters: {'alpha': 0.01}\n",
      "Best cross-validation score: 0.96\n",
      "Test set score: 0.94\n"
     ]
    }
   ],
   "source": [
    "from  sklearn.linear_model import Ridge\n",
    "\n",
    "ridge = Ridge()\n",
    "ridge_param_grid = {'alpha': [0.001, 0.01, 0.1, 1, 10, 100, 1000]}\n",
    "ridge_grid_search = GridSearchCV(ridge, ridge_param_grid, cv=5, return_train_score=True)\n",
    "ridge_grid_search.fit(X_train, y_train)\n",
    "\n",
    "print(\"Best parameters: {}\".format(ridge_grid_search.best_params_))\n",
    "print(\"Best cross-validation score: {:.2f}\".format(ridge_grid_search.best_score_))\n",
    "print(\"Test set score: {:.2f}\".format(ridge_grid_search.score(X_test, y_test)))\n",
    "\n",
    "report_table = report_table + [['Ridge', ridge_grid_search.best_params_, ridge_grid_search.best_score_, ridge_grid_search.score(X_test, y_test)]]"
   ]
  },
  {
   "cell_type": "code",
   "execution_count": 19,
   "metadata": {},
   "outputs": [
    {
     "data": {
      "text/plain": [
       "([<matplotlib.axis.XTick at 0x18680499c18>,\n",
       "  <matplotlib.axis.XTick at 0x18680499438>,\n",
       "  <matplotlib.axis.XTick at 0x186804992e8>,\n",
       "  <matplotlib.axis.XTick at 0x186804aa2b0>,\n",
       "  <matplotlib.axis.XTick at 0x186804aa940>,\n",
       "  <matplotlib.axis.XTick at 0x186804aae80>,\n",
       "  <matplotlib.axis.XTick at 0x186804aa160>],\n",
       " <a list of 7 Text xticklabel objects>)"
      ]
     },
     "execution_count": 19,
     "metadata": {},
     "output_type": "execute_result"
    },
    {
     "data": {
      "image/png": "[encoded data removed]",
      "text/plain": [
       "<Figure size 432x288 with 1 Axes>"
      ]
     },
     "metadata": {
      "needs_background": "light"
     },
     "output_type": "display_data"
    }
   ],
   "source": [
    "results = pd.DataFrame(ridge_grid_search.cv_results_)\n",
    "test_scores = np.array(results.mean_test_score)\n",
    "train_scores = np.array(results.mean_train_score)\n",
    "\n",
    "x_axis = range(1,8)\n",
    "my_xticks = ridge_param_grid['alpha']\n",
    "plt.plot(x_axis, train_scores, c = 'g', label = 'Train Score')\n",
    "plt.plot(x_axis, test_scores, c = 'b', label = 'Test Score')\n",
    "plt.legend()\n",
    "plt.xlabel('alpha')\n",
    "plt.ylabel('accuracy')\n",
    "plt.xticks(x_axis, my_xticks)"
   ]
  },
  {
   "cell_type": "markdown",
   "metadata": {},
   "source": [
    "## Lasso"
   ]
  },
  {
   "cell_type": "code",
   "execution_count": 20,
   "metadata": {},
   "outputs": [
    {
     "name": "stdout",
     "output_type": "stream",
     "text": [
      "Best parameters: {'alpha': 0.01}\n",
      "Best cross-validation score: 0.95\n",
      "Test set score: 0.93\n"
     ]
    }
   ],
   "source": [
    "from sklearn.linear_model import Lasso\n",
    "\n",
    "lasso = Lasso()\n",
    "lasso_param_grid = {'alpha': [0.001, 0.01, 0.1, 1, 10, 100, 1000]}\n",
    "lasso_grid_search = GridSearchCV(lasso, lasso_param_grid, cv=5, return_train_score=True)\n",
    "lasso_grid_search.fit(X_train, y_train)\n",
    "\n",
    "print(\"Best parameters: {}\".format(lasso_grid_search.best_params_))\n",
    "print(\"Best cross-validation score: {:.2f}\".format(lasso_grid_search.best_score_))\n",
    "print(\"Test set score: {:.2f}\".format(lasso_grid_search.score(X_test, y_test)))\n",
    "\n",
    "report_table = report_table + [['Lasso', lasso_grid_search.best_params_, lasso_grid_search.best_score_, lasso_grid_search.score(X_test, y_test)]]"
   ]
  },
  {
   "cell_type": "code",
   "execution_count": 21,
   "metadata": {},
   "outputs": [
    {
     "data": {
      "text/plain": [
       "([<matplotlib.axis.XTick at 0x186804ba518>,\n",
       "  <matplotlib.axis.XTick at 0x186804b7f60>,\n",
       "  <matplotlib.axis.XTick at 0x186804b7588>,\n",
       "  <matplotlib.axis.XTick at 0x18680914eb8>,\n",
       "  <matplotlib.axis.XTick at 0x1868091e3c8>,\n",
       "  <matplotlib.axis.XTick at 0x18680914828>,\n",
       "  <matplotlib.axis.XTick at 0x1868091ea20>],\n",
       " <a list of 7 Text xticklabel objects>)"
      ]
     },
     "execution_count": 21,
     "metadata": {},
     "output_type": "execute_result"
    },
    {
     "data": {
      "image/png": "[encoded data removed]",
      "text/plain": [
       "<Figure size 432x288 with 1 Axes>"
      ]
     },
     "metadata": {
      "needs_background": "light"
     },
     "output_type": "display_data"
    }
   ],
   "source": [
    "results = pd.DataFrame(lasso_grid_search.cv_results_)\n",
    "test_scores = np.array(results.mean_test_score)\n",
    "train_scores = np.array(results.mean_train_score)\n",
    "\n",
    "x_axis = range(1,8)\n",
    "my_xticks = lasso_param_grid['alpha']\n",
    "plt.plot(x_axis, train_scores, c = 'g', label = 'Train Score')\n",
    "plt.plot(x_axis, test_scores, c = 'b', label = 'Test Score')\n",
    "plt.legend()\n",
    "plt.xlabel('alpha')\n",
    "plt.ylabel('accuracy')\n",
    "plt.xticks(x_axis, my_xticks)"
   ]
  },
  {
   "cell_type": "markdown",
   "metadata": {},
   "source": [
    "## LinearSVR"
   ]
  },
  {
   "cell_type": "code",
   "execution_count": 22,
   "metadata": {},
   "outputs": [
    {
     "name": "stdout",
     "output_type": "stream",
     "text": [
      "Best parameters: {}\n",
      "Best cross-validation score: 0.24\n",
      "Test set score: 0.31\n"
     ]
    }
   ],
   "source": [
    "from sklearn.svm import LinearSVR\n",
    "\n",
    "lsvr = LinearSVR()\n",
    "lsvr_param_grid = {}\n",
    "lsvr_grid_search = GridSearchCV(lsvr, lsvr_param_grid, cv=5, return_train_score=True)\n",
    "lsvr_grid_search.fit(X_train, y_train)\n",
    "\n",
    "print(\"Best parameters: {}\".format(lsvr_grid_search.best_params_))\n",
    "print(\"Best cross-validation score: {:.2f}\".format(lsvr_grid_search.best_score_))\n",
    "print(\"Test set score: {:.2f}\".format(lsvr_grid_search.score(X_test, y_test)))\n",
    "\n",
    "report_table = report_table + [['Linear SVR', lsvr_grid_search.best_params_, lsvr_grid_search.best_score_, lsvr_grid_search.score(X_test, y_test)]]"
   ]
  },
  {
   "cell_type": "markdown",
   "metadata": {},
   "source": [
    "## SVR with Kernel trick"
   ]
  },
  {
   "cell_type": "code",
   "execution_count": 23,
   "metadata": {},
   "outputs": [
    {
     "name": "stdout",
     "output_type": "stream",
     "text": [
      "Best parameters: {'C': 100, 'gamma': 0.1}\n",
      "Best cross-validation score: 0.55\n",
      "Test set score: 0.68\n"
     ]
    }
   ],
   "source": [
    "from sklearn.svm import SVR\n",
    "\n",
    "svr = SVR()\n",
    "svr_param_grid = {'C': [0.001, 0.01, 0.1, 1, 10, 100],\n",
    "             'gamma': [0.001, 0.01, 0.1, 1, 10, 100]}\n",
    "svr_grid_search = GridSearchCV(svr, svr_param_grid, cv=5, return_train_score=True)\n",
    "svr_grid_search.fit(X_train, y_train)\n",
    "\n",
    "print(\"Best parameters: {}\".format(svr_grid_search.best_params_))\n",
    "print(\"Best cross-validation score: {:.2f}\".format(svr_grid_search.best_score_))\n",
    "print(\"Test set score: {:.2f}\".format(svr_grid_search.score(X_test, y_test)))\n",
    "\n",
    "report_table = report_table + [['SVR With Kernel', svr_grid_search.best_params_, svr_grid_search.best_score_, svr_grid_search.score(X_test, y_test)]]"
   ]
  },
  {
   "cell_type": "code",
   "execution_count": 24,
   "metadata": {},
   "outputs": [
    {
     "data": {
      "text/plain": [
       "<matplotlib.collections.PolyCollection at 0x186810addd8>"
      ]
     },
     "execution_count": 24,
     "metadata": {},
     "output_type": "execute_result"
    },
    {
     "data": {
      "image/png": "[encoded data removed]",
      "text/plain": [
       "<Figure size 432x288 with 1 Axes>"
      ]
     },
     "metadata": {
      "needs_background": "light"
     },
     "output_type": "display_data"
    }
   ],
   "source": [
    "results = pd.DataFrame(svr_grid_searchid_search.cv_results_)\n",
    "scores = np.array(results.mean_test_score).reshape(6, 6)\n",
    "\n",
    "# plot the mean cross-validation scores\n",
    "mglearn.tools.heatmap(scores, xlabel='gamma', xticklabels=svr_param_grid['gamma'], ylabel='C', yticklabels=svr_param_grid['C'], cmap=\"viridis\")"
   ]
  },
  {
   "cell_type": "markdown",
   "metadata": {},
   "source": [
    "## Decision Tree Regressor"
   ]
  },
  {
   "cell_type": "code",
   "execution_count": 25,
   "metadata": {},
   "outputs": [
    {
     "name": "stdout",
     "output_type": "stream",
     "text": [
      "Best parameters: {'max_depth': 5, 'random_state': 0}\n",
      "Best cross-validation score: 0.92\n",
      "Test set score: 0.88\n"
     ]
    }
   ],
   "source": [
    "from sklearn.tree import DecisionTreeRegressor\n",
    "\n",
    "dtree_reg = DecisionTreeRegressor()\n",
    "d = np.arange(20)+1\n",
    "dtree_reg_param_grid = {'max_depth': d, 'random_state': [0]}\n",
    "dtree_reg_grid_search = GridSearchCV(dtree_reg, dtree_reg_param_grid, cv=5, return_train_score=True)\n",
    "dtree_reg_grid_search.fit(X_train, y_train)\n",
    "\n",
    "print(\"Best parameters: {}\".format(dtree_reg_grid_search.best_params_))\n",
    "print(\"Best cross-validation score: {:.2f}\".format(dtree_reg_grid_search.best_score_))\n",
    "print(\"Test set score: {:.2f}\".format(dtree_reg_grid_search.score(X_test, y_test)))\n",
    "\n",
    "report_table = report_table + [['Decision Tree Regressor', dtree_reg_grid_search.best_params_, dtree_reg_grid_search.best_score_, dtree_reg_grid_search.score(X_test, y_test)]]"
   ]
  },
  {
   "cell_type": "code",
   "execution_count": 26,
   "metadata": {},
   "outputs": [
    {
     "data": {
      "text/plain": [
       "array([3.33567094e-04, 3.71948742e-04, 0.00000000e+00, 0.00000000e+00,\n",
       "       3.35097514e-03, 1.54187471e-03, 2.88946764e-01, 0.00000000e+00,\n",
       "       0.00000000e+00, 0.00000000e+00, 0.00000000e+00, 0.00000000e+00,\n",
       "       0.00000000e+00, 0.00000000e+00, 0.00000000e+00, 5.57120926e-04,\n",
       "       0.00000000e+00, 0.00000000e+00, 0.00000000e+00, 1.66053588e-02,\n",
       "       0.00000000e+00, 0.00000000e+00, 0.00000000e+00, 0.00000000e+00,\n",
       "       0.00000000e+00, 0.00000000e+00, 0.00000000e+00, 0.00000000e+00,\n",
       "       0.00000000e+00, 0.00000000e+00, 0.00000000e+00, 0.00000000e+00,\n",
       "       0.00000000e+00, 0.00000000e+00, 3.68283794e-02, 0.00000000e+00,\n",
       "       0.00000000e+00, 0.00000000e+00, 0.00000000e+00, 0.00000000e+00,\n",
       "       0.00000000e+00, 0.00000000e+00, 0.00000000e+00, 0.00000000e+00,\n",
       "       0.00000000e+00, 0.00000000e+00, 0.00000000e+00, 0.00000000e+00,\n",
       "       0.00000000e+00, 0.00000000e+00, 0.00000000e+00, 0.00000000e+00,\n",
       "       0.00000000e+00, 0.00000000e+00, 0.00000000e+00, 0.00000000e+00,\n",
       "       0.00000000e+00, 0.00000000e+00, 0.00000000e+00, 0.00000000e+00,\n",
       "       0.00000000e+00, 0.00000000e+00, 0.00000000e+00, 0.00000000e+00,\n",
       "       0.00000000e+00, 0.00000000e+00, 0.00000000e+00, 0.00000000e+00,\n",
       "       0.00000000e+00, 0.00000000e+00, 0.00000000e+00, 0.00000000e+00,\n",
       "       0.00000000e+00, 0.00000000e+00, 5.37779673e-01, 0.00000000e+00,\n",
       "       1.13684338e-01])"
      ]
     },
     "execution_count": 26,
     "metadata": {},
     "output_type": "execute_result"
    }
   ],
   "source": [
    "dtree_reg_grid_search.best_estimator_.feature_importances_"
   ]
  },
  {
   "cell_type": "code",
   "execution_count": 27,
   "metadata": {
    "scrolled": true
   },
   "outputs": [
    {
     "data": {
      "text/plain": [
       "([<matplotlib.axis.XTick at 0x186811431d0>,\n",
       "  <matplotlib.axis.XTick at 0x18681141ac8>,\n",
       "  <matplotlib.axis.XTick at 0x186811417f0>,\n",
       "  <matplotlib.axis.XTick at 0x18681162198>,\n",
       "  <matplotlib.axis.XTick at 0x18681162668>,\n",
       "  <matplotlib.axis.XTick at 0x18681162b38>,\n",
       "  <matplotlib.axis.XTick at 0x186811567b8>,\n",
       "  <matplotlib.axis.XTick at 0x18681162278>,\n",
       "  <matplotlib.axis.XTick at 0x1868116b4e0>,\n",
       "  <matplotlib.axis.XTick at 0x1868116b9e8>,\n",
       "  <matplotlib.axis.XTick at 0x1868116bef0>,\n",
       "  <matplotlib.axis.XTick at 0x18681172438>,\n",
       "  <matplotlib.axis.XTick at 0x18681172940>,\n",
       "  <matplotlib.axis.XTick at 0x18681172e48>,\n",
       "  <matplotlib.axis.XTick at 0x1868117a390>,\n",
       "  <matplotlib.axis.XTick at 0x18681172a20>,\n",
       "  <matplotlib.axis.XTick at 0x1868116b4a8>,\n",
       "  <matplotlib.axis.XTick at 0x1868117a748>,\n",
       "  <matplotlib.axis.XTick at 0x1868117ac50>,\n",
       "  <matplotlib.axis.XTick at 0x18681183198>],\n",
       " <a list of 20 Text xticklabel objects>)"
      ]
     },
     "execution_count": 27,
     "metadata": {},
     "output_type": "execute_result"
    },
    {
     "data": {
      "image/png": "[encoded data removed]",
      "text/plain": [
       "<Figure size 432x288 with 1 Axes>"
      ]
     },
     "metadata": {
      "needs_background": "light"
     },
     "output_type": "display_data"
    }
   ],
   "source": [
    "results = pd.DataFrame(dtree_reg_grid_search.cv_results_)\n",
    "test_scores = np.array(results.mean_test_score)\n",
    "train_scores = np.array(results.mean_train_score)\n",
    "\n",
    "x_axis = range(1,21)\n",
    "my_xticks = dtree_reg_param_grid['max_depth']\n",
    "plt.plot(x_axis, train_scores, c = 'g', label = 'Train Score')\n",
    "plt.plot(x_axis, test_scores, c = 'b', label = 'Test Score')\n",
    "plt.legend()\n",
    "plt.xlabel('max_depth')\n",
    "plt.ylabel('accuracy')\n",
    "plt.xticks(x_axis, my_xticks)"
   ]
  },
  {
   "cell_type": "code",
   "execution_count": 28,
   "metadata": {},
   "outputs": [
    {
     "data": {
      "text/html": [
       "<div>\n",
       "<style scoped>\n",
       "    .dataframe tbody tr th:only-of-type {\n",
       "        vertical-align: middle;\n",
       "    }\n",
       "\n",
       "    .dataframe tbody tr th {\n",
       "        vertical-align: top;\n",
       "    }\n",
       "\n",
       "    .dataframe thead th {\n",
       "        text-align: right;\n",
       "    }\n",
       "</style>\n",
       "<table border=\"1\" class=\"dataframe\">\n",
       "  <thead>\n",
       "    <tr style=\"text-align: right;\">\n",
       "      <th></th>\n",
       "      <th>Model parameter</th>\n",
       "      <th>Best Cross validation score</th>\n",
       "      <th>Test score</th>\n",
       "    </tr>\n",
       "    <tr>\n",
       "      <th>Model name</th>\n",
       "      <th></th>\n",
       "      <th></th>\n",
       "      <th></th>\n",
       "    </tr>\n",
       "  </thead>\n",
       "  <tbody>\n",
       "    <tr>\n",
       "      <th>K Neighbors Regressor</th>\n",
       "      <td>{'n_neighbors': 1}</td>\n",
       "      <td>1.000000</td>\n",
       "      <td>0.785349</td>\n",
       "    </tr>\n",
       "    <tr>\n",
       "      <th>Linear Regression</th>\n",
       "      <td>{}</td>\n",
       "      <td>0.949984</td>\n",
       "      <td>0.935679</td>\n",
       "    </tr>\n",
       "    <tr>\n",
       "      <th>Polynomial Regression</th>\n",
       "      <td>{'poly__degree': 1}</td>\n",
       "      <td>0.949984</td>\n",
       "      <td>0.935679</td>\n",
       "    </tr>\n",
       "    <tr>\n",
       "      <th>Ridge</th>\n",
       "      <td>{'alpha': 0.01}</td>\n",
       "      <td>0.955183</td>\n",
       "      <td>0.935379</td>\n",
       "    </tr>\n",
       "    <tr>\n",
       "      <th>Lasso</th>\n",
       "      <td>{'alpha': 0.01}</td>\n",
       "      <td>0.954844</td>\n",
       "      <td>0.934036</td>\n",
       "    </tr>\n",
       "    <tr>\n",
       "      <th>Linear SVR</th>\n",
       "      <td>{}</td>\n",
       "      <td>0.242806</td>\n",
       "      <td>0.305750</td>\n",
       "    </tr>\n",
       "    <tr>\n",
       "      <th>SVR With Kernel</th>\n",
       "      <td>{'C': 100, 'gamma': 0.1}</td>\n",
       "      <td>0.554555</td>\n",
       "      <td>0.675659</td>\n",
       "    </tr>\n",
       "    <tr>\n",
       "      <th>Decision Tree Regressor</th>\n",
       "      <td>{'max_depth': 5, 'random_state': 0}</td>\n",
       "      <td>0.915036</td>\n",
       "      <td>0.879648</td>\n",
       "    </tr>\n",
       "  </tbody>\n",
       "</table>\n",
       "</div>"
      ],
      "text/plain": [
       "                                             Model parameter  \\\n",
       "Model name                                                     \n",
       "K Neighbors Regressor                     {'n_neighbors': 1}   \n",
       "Linear Regression                                         {}   \n",
       "Polynomial Regression                    {'poly__degree': 1}   \n",
       "Ridge                                        {'alpha': 0.01}   \n",
       "Lasso                                        {'alpha': 0.01}   \n",
       "Linear SVR                                                {}   \n",
       "SVR With Kernel                     {'C': 100, 'gamma': 0.1}   \n",
       "Decision Tree Regressor  {'max_depth': 5, 'random_state': 0}   \n",
       "\n",
       "                         Best Cross validation score  Test score  \n",
       "Model name                                                        \n",
       "K Neighbors Regressor                       1.000000    0.785349  \n",
       "Linear Regression                           0.949984    0.935679  \n",
       "Polynomial Regression                       0.949984    0.935679  \n",
       "Ridge                                       0.955183    0.935379  \n",
       "Lasso                                       0.954844    0.934036  \n",
       "Linear SVR                                  0.242806    0.305750  \n",
       "SVR With Kernel                             0.554555    0.675659  \n",
       "Decision Tree Regressor                     0.915036    0.879648  "
      ]
     },
     "execution_count": 28,
     "metadata": {},
     "output_type": "execute_result"
    }
   ],
   "source": [
    "report = pd.DataFrame(report_table,columns = ['Model name', 'Model parameter', 'Best Cross validation score', 'Test score'])\n",
    "report = report.set_index(report.columns[0])\n",
    "report"
   ]
  },
  {
   "cell_type": "code",
   "execution_count": 30,
   "metadata": {},
   "outputs": [],
   "source": [
    "report.to_csv(\"project2_classificationScores.csv\",sep=',')"
   ]
  },
  {
   "cell_type": "markdown",
   "metadata": {},
   "source": [
    "## Best Model\n",
    "The best model is Linear Regression because it has the highest test score and the difference between the train and test score is the least. Linear Regression does not have any hyperparameters. Ridge and Lasso also perform quite well. Training on the entire dataset using Linear Regression gives the following result:"
   ]
  },
  {
   "cell_type": "code",
   "execution_count": 27,
   "metadata": {},
   "outputs": [
    {
     "name": "stdout",
     "output_type": "stream",
     "text": [
      "Train set score: 0.93\n",
      "Test set score: 0.94\n"
     ]
    }
   ],
   "source": [
    "X_train_org, X_test_org, y_train, y_test = train_test_split(X, Y, random_state = 0)\n",
    "scaler = MinMaxScaler()\n",
    "X_train = scaler.fit_transform(X_train_org)\n",
    "X_test = scaler.transform(X_test_org)\n",
    "\n",
    "lreg = LinearRegression()\n",
    "lreg.fit(X_train,y_train)\n",
    "\n",
    "print(\"Train set score: {:.2f}\".format(lreg.score(X_train, y_train)))\n",
    "print(\"Test set score: {:.2f}\".format(lreg.score(X_test, y_test)))"
   ]
  },
  {
   "cell_type": "markdown",
   "metadata": {},
   "source": [
    "# Classification"
   ]
  },
  {
   "cell_type": "code",
   "execution_count": 28,
   "metadata": {},
   "outputs": [],
   "source": [
    "classification_data = pd.read_csv(\"Twitter-Absolute-Sigma-500.data\", header = None, names = ['NCD_0','NCD_1','NCD_2','NCD_3','NCD_4','NCD_5','NCD_6','AI_0','AI_1','AI_2','AI_3','AI_4','AI_5','AI_6','AS(NA)_0','AS(NA)_1','AS(NA)_2','AS(NA)_3','AS(NA)_4','AS(NA)_5','AS(NA)_6','BL_0','BL_1','BL_2','BL_3','BL_4','BL_5','BL_6','NAC_0','NAC_1','NAC_2','NAC_3','NAC_4','NAC_5','NAC_6','AS(NAC)_0','AS(NAC)_1','AS(NAC)_2','AS(NAC)_3','AS(NAC)_4','AS(NAC)_5','AS(NAC)_6','CS_0','CS_1','CS_2','CS_3','CS_4','CS_5','CS_6','AT_0','AT_1','AT_2','AT_3','AT_4','AT_5','AT_6','NA_0','NA_1','NA_2','NA_3','NA_4','NA_5','NA_6','ADL_0','ADL_1','ADL_2','ADL_3','ADL_4','ADL_5','ADL_6','NAD_0','NAD_1','NAD_2','NAD_3','NAD_4','NAD_5','NAD_6','Buzz'])"
   ]
  },
  {
   "cell_type": "code",
   "execution_count": 29,
   "metadata": {},
   "outputs": [
    {
     "data": {
      "text/html": [
       "<div>\n",
       "<style scoped>\n",
       "    .dataframe tbody tr th:only-of-type {\n",
       "        vertical-align: middle;\n",
       "    }\n",
       "\n",
       "    .dataframe tbody tr th {\n",
       "        vertical-align: top;\n",
       "    }\n",
       "\n",
       "    .dataframe thead th {\n",
       "        text-align: right;\n",
       "    }\n",
       "</style>\n",
       "<table border=\"1\" class=\"dataframe\">\n",
       "  <thead>\n",
       "    <tr style=\"text-align: right;\">\n",
       "      <th></th>\n",
       "      <th>NCD_0</th>\n",
       "      <th>NCD_1</th>\n",
       "      <th>NCD_2</th>\n",
       "      <th>NCD_3</th>\n",
       "      <th>NCD_4</th>\n",
       "      <th>NCD_5</th>\n",
       "      <th>NCD_6</th>\n",
       "      <th>AI_0</th>\n",
       "      <th>AI_1</th>\n",
       "      <th>AI_2</th>\n",
       "      <th>...</th>\n",
       "      <th>ADL_5</th>\n",
       "      <th>ADL_6</th>\n",
       "      <th>NAD_0</th>\n",
       "      <th>NAD_1</th>\n",
       "      <th>NAD_2</th>\n",
       "      <th>NAD_3</th>\n",
       "      <th>NAD_4</th>\n",
       "      <th>NAD_5</th>\n",
       "      <th>NAD_6</th>\n",
       "      <th>Buzz</th>\n",
       "    </tr>\n",
       "  </thead>\n",
       "  <tbody>\n",
       "    <tr>\n",
       "      <th>0</th>\n",
       "      <td>889</td>\n",
       "      <td>939</td>\n",
       "      <td>960</td>\n",
       "      <td>805</td>\n",
       "      <td>805</td>\n",
       "      <td>1143</td>\n",
       "      <td>1121</td>\n",
       "      <td>549</td>\n",
       "      <td>613</td>\n",
       "      <td>587</td>\n",
       "      <td>...</td>\n",
       "      <td>1.0</td>\n",
       "      <td>1.0</td>\n",
       "      <td>889</td>\n",
       "      <td>939</td>\n",
       "      <td>960</td>\n",
       "      <td>805</td>\n",
       "      <td>805</td>\n",
       "      <td>1143</td>\n",
       "      <td>1121</td>\n",
       "      <td>1.0</td>\n",
       "    </tr>\n",
       "    <tr>\n",
       "      <th>1</th>\n",
       "      <td>542</td>\n",
       "      <td>473</td>\n",
       "      <td>504</td>\n",
       "      <td>626</td>\n",
       "      <td>647</td>\n",
       "      <td>795</td>\n",
       "      <td>832</td>\n",
       "      <td>366</td>\n",
       "      <td>288</td>\n",
       "      <td>318</td>\n",
       "      <td>...</td>\n",
       "      <td>1.0</td>\n",
       "      <td>1.0</td>\n",
       "      <td>542</td>\n",
       "      <td>473</td>\n",
       "      <td>504</td>\n",
       "      <td>626</td>\n",
       "      <td>647</td>\n",
       "      <td>795</td>\n",
       "      <td>832</td>\n",
       "      <td>1.0</td>\n",
       "    </tr>\n",
       "    <tr>\n",
       "      <th>2</th>\n",
       "      <td>92</td>\n",
       "      <td>99</td>\n",
       "      <td>196</td>\n",
       "      <td>100</td>\n",
       "      <td>184</td>\n",
       "      <td>79</td>\n",
       "      <td>162</td>\n",
       "      <td>66</td>\n",
       "      <td>59</td>\n",
       "      <td>118</td>\n",
       "      <td>...</td>\n",
       "      <td>1.0</td>\n",
       "      <td>1.0</td>\n",
       "      <td>92</td>\n",
       "      <td>99</td>\n",
       "      <td>196</td>\n",
       "      <td>100</td>\n",
       "      <td>184</td>\n",
       "      <td>79</td>\n",
       "      <td>162</td>\n",
       "      <td>0.0</td>\n",
       "    </tr>\n",
       "    <tr>\n",
       "      <th>3</th>\n",
       "      <td>90</td>\n",
       "      <td>87</td>\n",
       "      <td>92</td>\n",
       "      <td>344</td>\n",
       "      <td>184</td>\n",
       "      <td>848</td>\n",
       "      <td>184</td>\n",
       "      <td>83</td>\n",
       "      <td>78</td>\n",
       "      <td>76</td>\n",
       "      <td>...</td>\n",
       "      <td>1.0</td>\n",
       "      <td>1.0</td>\n",
       "      <td>90</td>\n",
       "      <td>87</td>\n",
       "      <td>92</td>\n",
       "      <td>344</td>\n",
       "      <td>184</td>\n",
       "      <td>848</td>\n",
       "      <td>184</td>\n",
       "      <td>1.0</td>\n",
       "    </tr>\n",
       "    <tr>\n",
       "      <th>4</th>\n",
       "      <td>169</td>\n",
       "      <td>98</td>\n",
       "      <td>101</td>\n",
       "      <td>90</td>\n",
       "      <td>96</td>\n",
       "      <td>95</td>\n",
       "      <td>185</td>\n",
       "      <td>141</td>\n",
       "      <td>68</td>\n",
       "      <td>85</td>\n",
       "      <td>...</td>\n",
       "      <td>1.0</td>\n",
       "      <td>1.0</td>\n",
       "      <td>169</td>\n",
       "      <td>98</td>\n",
       "      <td>101</td>\n",
       "      <td>90</td>\n",
       "      <td>96</td>\n",
       "      <td>95</td>\n",
       "      <td>185</td>\n",
       "      <td>1.0</td>\n",
       "    </tr>\n",
       "  </tbody>\n",
       "</table>\n",
       "<p>5 rows × 78 columns</p>\n",
       "</div>"
      ],
      "text/plain": [
       "   NCD_0  NCD_1  NCD_2  NCD_3  NCD_4  NCD_5  NCD_6  AI_0  AI_1  AI_2  ...   \\\n",
       "0    889    939    960    805    805   1143   1121   549   613   587  ...    \n",
       "1    542    473    504    626    647    795    832   366   288   318  ...    \n",
       "2     92     99    196    100    184     79    162    66    59   118  ...    \n",
       "3     90     87     92    344    184    848    184    83    78    76  ...    \n",
       "4    169     98    101     90     96     95    185   141    68    85  ...    \n",
       "\n",
       "   ADL_5  ADL_6  NAD_0  NAD_1  NAD_2  NAD_3  NAD_4  NAD_5  NAD_6  Buzz  \n",
       "0    1.0    1.0    889    939    960    805    805   1143   1121   1.0  \n",
       "1    1.0    1.0    542    473    504    626    647    795    832   1.0  \n",
       "2    1.0    1.0     92     99    196    100    184     79    162   0.0  \n",
       "3    1.0    1.0     90     87     92    344    184    848    184   1.0  \n",
       "4    1.0    1.0    169     98    101     90     96     95    185   1.0  \n",
       "\n",
       "[5 rows x 78 columns]"
      ]
     },
     "execution_count": 29,
     "metadata": {},
     "output_type": "execute_result"
    }
   ],
   "source": [
    "classification_data.head()"
   ]
  },
  {
   "cell_type": "code",
   "execution_count": 30,
   "metadata": {
    "scrolled": true
   },
   "outputs": [
    {
     "name": "stdout",
     "output_type": "stream",
     "text": [
      "<class 'pandas.core.frame.DataFrame'>\n",
      "RangeIndex: 140707 entries, 0 to 140706\n",
      "Data columns (total 78 columns):\n",
      "NCD_0        140707 non-null int64\n",
      "NCD_1        140707 non-null int64\n",
      "NCD_2        140707 non-null int64\n",
      "NCD_3        140707 non-null int64\n",
      "NCD_4        140707 non-null int64\n",
      "NCD_5        140707 non-null int64\n",
      "NCD_6        140707 non-null int64\n",
      "AI_0         140707 non-null int64\n",
      "AI_1         140707 non-null int64\n",
      "AI_2         140707 non-null int64\n",
      "AI_3         140707 non-null int64\n",
      "AI_4         140707 non-null int64\n",
      "AI_5         140707 non-null int64\n",
      "AI_6         140707 non-null int64\n",
      "AS(NA)_0     140707 non-null float64\n",
      "AS(NA)_1     140707 non-null float64\n",
      "AS(NA)_2     140707 non-null float64\n",
      "AS(NA)_3     140707 non-null float64\n",
      "AS(NA)_4     140707 non-null float64\n",
      "AS(NA)_5     140707 non-null float64\n",
      "AS(NA)_6     140707 non-null float64\n",
      "BL_0         140707 non-null float64\n",
      "BL_1         140707 non-null float64\n",
      "BL_2         140707 non-null float64\n",
      "BL_3         140707 non-null float64\n",
      "BL_4         140707 non-null float64\n",
      "BL_5         140707 non-null float64\n",
      "BL_6         140707 non-null float64\n",
      "NAC_0        140707 non-null int64\n",
      "NAC_1        140707 non-null int64\n",
      "NAC_2        140707 non-null int64\n",
      "NAC_3        140707 non-null int64\n",
      "NAC_4        140707 non-null int64\n",
      "NAC_5        140707 non-null int64\n",
      "NAC_6        140707 non-null int64\n",
      "AS(NAC)_0    140707 non-null float64\n",
      "AS(NAC)_1    140707 non-null float64\n",
      "AS(NAC)_2    140707 non-null float64\n",
      "AS(NAC)_3    140707 non-null float64\n",
      "AS(NAC)_4    140707 non-null float64\n",
      "AS(NAC)_5    140707 non-null float64\n",
      "AS(NAC)_6    140707 non-null float64\n",
      "CS_0         140707 non-null float64\n",
      "CS_1         140707 non-null float64\n",
      "CS_2         140707 non-null float64\n",
      "CS_3         140707 non-null float64\n",
      "CS_4         140707 non-null float64\n",
      "CS_5         140707 non-null float64\n",
      "CS_6         140707 non-null float64\n",
      "AT_0         140707 non-null float64\n",
      "AT_1         140707 non-null float64\n",
      "AT_2         140707 non-null float64\n",
      "AT_3         140707 non-null float64\n",
      "AT_4         140707 non-null float64\n",
      "AT_5         140707 non-null float64\n",
      "AT_6         140707 non-null float64\n",
      "NA_0         140707 non-null int64\n",
      "NA_1         140707 non-null int64\n",
      "NA_2         140707 non-null int64\n",
      "NA_3         140707 non-null int64\n",
      "NA_4         140707 non-null int64\n",
      "NA_5         140707 non-null int64\n",
      "NA_6         140707 non-null int64\n",
      "ADL_0        140707 non-null float64\n",
      "ADL_1        140707 non-null float64\n",
      "ADL_2        140707 non-null float64\n",
      "ADL_3        140707 non-null float64\n",
      "ADL_4        140707 non-null float64\n",
      "ADL_5        140707 non-null float64\n",
      "ADL_6        140707 non-null float64\n",
      "NAD_0        140707 non-null int64\n",
      "NAD_1        140707 non-null int64\n",
      "NAD_2        140707 non-null int64\n",
      "NAD_3        140707 non-null int64\n",
      "NAD_4        140707 non-null int64\n",
      "NAD_5        140707 non-null int64\n",
      "NAD_6        140707 non-null int64\n",
      "Buzz         140707 non-null float64\n",
      "dtypes: float64(43), int64(35)\n",
      "memory usage: 83.7 MB\n"
     ]
    }
   ],
   "source": [
    "classification_data.info()"
   ]
  },
  {
   "cell_type": "code",
   "execution_count": 31,
   "metadata": {},
   "outputs": [
    {
     "data": {
      "text/html": [
       "<div>\n",
       "<style scoped>\n",
       "    .dataframe tbody tr th:only-of-type {\n",
       "        vertical-align: middle;\n",
       "    }\n",
       "\n",
       "    .dataframe tbody tr th {\n",
       "        vertical-align: top;\n",
       "    }\n",
       "\n",
       "    .dataframe thead th {\n",
       "        text-align: right;\n",
       "    }\n",
       "</style>\n",
       "<table border=\"1\" class=\"dataframe\">\n",
       "  <thead>\n",
       "    <tr style=\"text-align: right;\">\n",
       "      <th></th>\n",
       "      <th>NCD_0</th>\n",
       "      <th>NCD_1</th>\n",
       "      <th>NCD_2</th>\n",
       "      <th>NCD_3</th>\n",
       "      <th>NCD_4</th>\n",
       "      <th>NCD_5</th>\n",
       "      <th>NCD_6</th>\n",
       "      <th>AI_0</th>\n",
       "      <th>AI_1</th>\n",
       "      <th>AI_2</th>\n",
       "      <th>...</th>\n",
       "      <th>ADL_5</th>\n",
       "      <th>ADL_6</th>\n",
       "      <th>NAD_0</th>\n",
       "      <th>NAD_1</th>\n",
       "      <th>NAD_2</th>\n",
       "      <th>NAD_3</th>\n",
       "      <th>NAD_4</th>\n",
       "      <th>NAD_5</th>\n",
       "      <th>NAD_6</th>\n",
       "      <th>Buzz</th>\n",
       "    </tr>\n",
       "  </thead>\n",
       "  <tbody>\n",
       "    <tr>\n",
       "      <th>count</th>\n",
       "      <td>140707.000000</td>\n",
       "      <td>140707.000000</td>\n",
       "      <td>140707.000000</td>\n",
       "      <td>140707.000000</td>\n",
       "      <td>140707.000000</td>\n",
       "      <td>140707.000000</td>\n",
       "      <td>140707.000000</td>\n",
       "      <td>140707.000000</td>\n",
       "      <td>140707.000000</td>\n",
       "      <td>140707.000000</td>\n",
       "      <td>...</td>\n",
       "      <td>140707.000000</td>\n",
       "      <td>140707.000000</td>\n",
       "      <td>140707.000000</td>\n",
       "      <td>140707.000000</td>\n",
       "      <td>140707.000000</td>\n",
       "      <td>140707.000000</td>\n",
       "      <td>140707.000000</td>\n",
       "      <td>140707.000000</td>\n",
       "      <td>140707.000000</td>\n",
       "      <td>140707.000000</td>\n",
       "    </tr>\n",
       "    <tr>\n",
       "      <th>mean</th>\n",
       "      <td>172.279823</td>\n",
       "      <td>155.150625</td>\n",
       "      <td>165.464476</td>\n",
       "      <td>176.820549</td>\n",
       "      <td>186.937700</td>\n",
       "      <td>216.209208</td>\n",
       "      <td>243.866510</td>\n",
       "      <td>87.050154</td>\n",
       "      <td>78.639236</td>\n",
       "      <td>84.269574</td>\n",
       "      <td>...</td>\n",
       "      <td>1.113444</td>\n",
       "      <td>1.196131</td>\n",
       "      <td>172.838807</td>\n",
       "      <td>155.630878</td>\n",
       "      <td>165.938674</td>\n",
       "      <td>177.314810</td>\n",
       "      <td>187.463794</td>\n",
       "      <td>216.776294</td>\n",
       "      <td>244.479194</td>\n",
       "      <td>0.197396</td>\n",
       "    </tr>\n",
       "    <tr>\n",
       "      <th>std</th>\n",
       "      <td>509.872276</td>\n",
       "      <td>471.573236</td>\n",
       "      <td>495.360236</td>\n",
       "      <td>528.351277</td>\n",
       "      <td>560.331281</td>\n",
       "      <td>632.188378</td>\n",
       "      <td>707.402192</td>\n",
       "      <td>234.731748</td>\n",
       "      <td>218.448179</td>\n",
       "      <td>233.536510</td>\n",
       "      <td>...</td>\n",
       "      <td>1.374287</td>\n",
       "      <td>1.826150</td>\n",
       "      <td>510.937549</td>\n",
       "      <td>472.462733</td>\n",
       "      <td>496.233557</td>\n",
       "      <td>529.286514</td>\n",
       "      <td>561.309487</td>\n",
       "      <td>633.203935</td>\n",
       "      <td>708.436795</td>\n",
       "      <td>0.398035</td>\n",
       "    </tr>\n",
       "    <tr>\n",
       "      <th>min</th>\n",
       "      <td>0.000000</td>\n",
       "      <td>0.000000</td>\n",
       "      <td>0.000000</td>\n",
       "      <td>0.000000</td>\n",
       "      <td>0.000000</td>\n",
       "      <td>0.000000</td>\n",
       "      <td>0.000000</td>\n",
       "      <td>0.000000</td>\n",
       "      <td>0.000000</td>\n",
       "      <td>0.000000</td>\n",
       "      <td>...</td>\n",
       "      <td>0.000000</td>\n",
       "      <td>0.000000</td>\n",
       "      <td>0.000000</td>\n",
       "      <td>0.000000</td>\n",
       "      <td>0.000000</td>\n",
       "      <td>0.000000</td>\n",
       "      <td>0.000000</td>\n",
       "      <td>0.000000</td>\n",
       "      <td>0.000000</td>\n",
       "      <td>0.000000</td>\n",
       "    </tr>\n",
       "    <tr>\n",
       "      <th>25%</th>\n",
       "      <td>3.000000</td>\n",
       "      <td>2.000000</td>\n",
       "      <td>3.000000</td>\n",
       "      <td>3.000000</td>\n",
       "      <td>3.000000</td>\n",
       "      <td>4.000000</td>\n",
       "      <td>5.000000</td>\n",
       "      <td>2.000000</td>\n",
       "      <td>2.000000</td>\n",
       "      <td>2.000000</td>\n",
       "      <td>...</td>\n",
       "      <td>1.000000</td>\n",
       "      <td>1.000000</td>\n",
       "      <td>3.000000</td>\n",
       "      <td>2.000000</td>\n",
       "      <td>3.000000</td>\n",
       "      <td>3.000000</td>\n",
       "      <td>3.000000</td>\n",
       "      <td>4.000000</td>\n",
       "      <td>6.000000</td>\n",
       "      <td>0.000000</td>\n",
       "    </tr>\n",
       "    <tr>\n",
       "      <th>50%</th>\n",
       "      <td>22.000000</td>\n",
       "      <td>19.000000</td>\n",
       "      <td>20.000000</td>\n",
       "      <td>22.000000</td>\n",
       "      <td>23.000000</td>\n",
       "      <td>28.000000</td>\n",
       "      <td>33.000000</td>\n",
       "      <td>13.000000</td>\n",
       "      <td>11.000000</td>\n",
       "      <td>13.000000</td>\n",
       "      <td>...</td>\n",
       "      <td>1.000000</td>\n",
       "      <td>1.000000</td>\n",
       "      <td>22.000000</td>\n",
       "      <td>19.000000</td>\n",
       "      <td>21.000000</td>\n",
       "      <td>22.000000</td>\n",
       "      <td>23.000000</td>\n",
       "      <td>28.000000</td>\n",
       "      <td>33.000000</td>\n",
       "      <td>0.000000</td>\n",
       "    </tr>\n",
       "    <tr>\n",
       "      <th>75%</th>\n",
       "      <td>125.000000</td>\n",
       "      <td>112.000000</td>\n",
       "      <td>119.000000</td>\n",
       "      <td>126.000000</td>\n",
       "      <td>133.000000</td>\n",
       "      <td>161.000000</td>\n",
       "      <td>186.000000</td>\n",
       "      <td>70.000000</td>\n",
       "      <td>64.000000</td>\n",
       "      <td>67.000000</td>\n",
       "      <td>...</td>\n",
       "      <td>1.100000</td>\n",
       "      <td>1.119048</td>\n",
       "      <td>126.000000</td>\n",
       "      <td>113.000000</td>\n",
       "      <td>119.000000</td>\n",
       "      <td>127.000000</td>\n",
       "      <td>134.000000</td>\n",
       "      <td>162.000000</td>\n",
       "      <td>187.000000</td>\n",
       "      <td>0.000000</td>\n",
       "    </tr>\n",
       "    <tr>\n",
       "      <th>max</th>\n",
       "      <td>24210.000000</td>\n",
       "      <td>22899.000000</td>\n",
       "      <td>20495.000000</td>\n",
       "      <td>27007.000000</td>\n",
       "      <td>30957.000000</td>\n",
       "      <td>28603.000000</td>\n",
       "      <td>37505.000000</td>\n",
       "      <td>15105.000000</td>\n",
       "      <td>15730.000000</td>\n",
       "      <td>16389.000000</td>\n",
       "      <td>...</td>\n",
       "      <td>185.666672</td>\n",
       "      <td>295.000000</td>\n",
       "      <td>24301.000000</td>\n",
       "      <td>22980.000000</td>\n",
       "      <td>20495.000000</td>\n",
       "      <td>27071.000000</td>\n",
       "      <td>31028.000000</td>\n",
       "      <td>28697.000000</td>\n",
       "      <td>37505.000000</td>\n",
       "      <td>1.000000</td>\n",
       "    </tr>\n",
       "  </tbody>\n",
       "</table>\n",
       "<p>8 rows × 78 columns</p>\n",
       "</div>"
      ],
      "text/plain": [
       "               NCD_0          NCD_1          NCD_2          NCD_3  \\\n",
       "count  140707.000000  140707.000000  140707.000000  140707.000000   \n",
       "mean      172.279823     155.150625     165.464476     176.820549   \n",
       "std       509.872276     471.573236     495.360236     528.351277   \n",
       "min         0.000000       0.000000       0.000000       0.000000   \n",
       "25%         3.000000       2.000000       3.000000       3.000000   \n",
       "50%        22.000000      19.000000      20.000000      22.000000   \n",
       "75%       125.000000     112.000000     119.000000     126.000000   \n",
       "max     24210.000000   22899.000000   20495.000000   27007.000000   \n",
       "\n",
       "               NCD_4          NCD_5          NCD_6           AI_0  \\\n",
       "count  140707.000000  140707.000000  140707.000000  140707.000000   \n",
       "mean      186.937700     216.209208     243.866510      87.050154   \n",
       "std       560.331281     632.188378     707.402192     234.731748   \n",
       "min         0.000000       0.000000       0.000000       0.000000   \n",
       "25%         3.000000       4.000000       5.000000       2.000000   \n",
       "50%        23.000000      28.000000      33.000000      13.000000   \n",
       "75%       133.000000     161.000000     186.000000      70.000000   \n",
       "max     30957.000000   28603.000000   37505.000000   15105.000000   \n",
       "\n",
       "                AI_1           AI_2      ...                ADL_5  \\\n",
       "count  140707.000000  140707.000000      ...        140707.000000   \n",
       "mean       78.639236      84.269574      ...             1.113444   \n",
       "std       218.448179     233.536510      ...             1.374287   \n",
       "min         0.000000       0.000000      ...             0.000000   \n",
       "25%         2.000000       2.000000      ...             1.000000   \n",
       "50%        11.000000      13.000000      ...             1.000000   \n",
       "75%        64.000000      67.000000      ...             1.100000   \n",
       "max     15730.000000   16389.000000      ...           185.666672   \n",
       "\n",
       "               ADL_6          NAD_0          NAD_1          NAD_2  \\\n",
       "count  140707.000000  140707.000000  140707.000000  140707.000000   \n",
       "mean        1.196131     172.838807     155.630878     165.938674   \n",
       "std         1.826150     510.937549     472.462733     496.233557   \n",
       "min         0.000000       0.000000       0.000000       0.000000   \n",
       "25%         1.000000       3.000000       2.000000       3.000000   \n",
       "50%         1.000000      22.000000      19.000000      21.000000   \n",
       "75%         1.119048     126.000000     113.000000     119.000000   \n",
       "max       295.000000   24301.000000   22980.000000   20495.000000   \n",
       "\n",
       "               NAD_3          NAD_4          NAD_5          NAD_6  \\\n",
       "count  140707.000000  140707.000000  140707.000000  140707.000000   \n",
       "mean      177.314810     187.463794     216.776294     244.479194   \n",
       "std       529.286514     561.309487     633.203935     708.436795   \n",
       "min         0.000000       0.000000       0.000000       0.000000   \n",
       "25%         3.000000       3.000000       4.000000       6.000000   \n",
       "50%        22.000000      23.000000      28.000000      33.000000   \n",
       "75%       127.000000     134.000000     162.000000     187.000000   \n",
       "max     27071.000000   31028.000000   28697.000000   37505.000000   \n",
       "\n",
       "                Buzz  \n",
       "count  140707.000000  \n",
       "mean        0.197396  \n",
       "std         0.398035  \n",
       "min         0.000000  \n",
       "25%         0.000000  \n",
       "50%         0.000000  \n",
       "75%         0.000000  \n",
       "max         1.000000  \n",
       "\n",
       "[8 rows x 78 columns]"
      ]
     },
     "execution_count": 31,
     "metadata": {},
     "output_type": "execute_result"
    }
   ],
   "source": [
    "classification_data.describe()"
   ]
  },
  {
   "cell_type": "markdown",
   "metadata": {},
   "source": [
    "## Data Leakage"
   ]
  },
  {
   "cell_type": "code",
   "execution_count": 32,
   "metadata": {
    "collapsed": true
   },
   "outputs": [
    {
     "name": "stdout",
     "output_type": "stream",
     "text": [
      "[0.540735087211808, 0.5256316157097747, 0.5259335827573369, 0.5265740121899536, 0.5276040428534893, 0.5401463267909552, 0.5407005225179911, 0.5635149701919524, 0.5452421861823048, 0.5376051631143983, 0.5405674160382857, 0.5464334300563439, 0.5630843395725973, 0.5523192817803976, 0.5699376515088892, 0.5514502608146098, 0.5478404792770326, 0.5571190115879194, 0.5629277100612313, 0.578038252173018, 0.5906855138169731, 0.16129194937769617, 0.12811992760715046, 0.1702478780286145, 0.16527532602255518, 0.16146340539877282, 0.13150713192490052, 0.10363289610342973, 0.5489518321089691, 0.5349905644961632, 0.5340684079843483, 0.534239974881915, 0.5358074526305557, 0.5499939262649026, 0.5516734579614356, 0.5349361796900108, 0.5084252336516216, 0.5138789387320124, 0.5307475427223561, 0.535649091501099, 0.549422454390935, 0.5608369857823655, 0.15873439947180326, 0.1267719142519148, 0.1693389765077845, 0.16403988923459753, 0.15997056862032322, 0.12922121286659194, 0.10015140628735712, 0.043698618613189015, 0.03329996154795792, 0.05014419496331276, 0.052676488290710206, 0.03581453237425198, 0.020669117257920974, -0.0009006853597616846, 0.5697303633171313, 0.556933320164395, 0.5492674123530469, 0.5493044977919485, 0.5554077164299112, 0.5719645601486226, 0.5725268968652161, 0.03901855518388738, 0.03179120329796659, 0.04574228610032029, 0.046731828439692036, 0.031533906511257696, 0.012106649487241161, -0.011439168934355348, 0.5411991036894466, 0.5261419393118558, 0.5263959505348321, 0.5269944654658102, 0.5280537342761465, 0.5405738735880703, 0.5411550563830367]\n"
     ]
    }
   ],
   "source": [
    "X = classification_data.drop(['Buzz'], axis=1)\n",
    "Y = classification_data['Buzz']\n",
    "\n",
    "columns = X.values\n",
    "target = Y.values\n",
    "\n",
    "corr_list = [];\n",
    "for i in range(0,77):\n",
    "   corr_list.append(np.corrcoef(columns[:,i] , target)[0,1])\n",
    "\n",
    "print(corr_list)"
   ]
  },
  {
   "cell_type": "code",
   "execution_count": 33,
   "metadata": {},
   "outputs": [
    {
     "data": {
      "text/plain": [
       "0.19739600730596205"
      ]
     },
     "execution_count": 33,
     "metadata": {},
     "output_type": "execute_result"
    }
   ],
   "source": [
    "Y.sum()/Y.count()"
   ]
  },
  {
   "cell_type": "markdown",
   "metadata": {},
   "source": [
    "## Imbalanced Dataset\n",
    "Since the dataset is imbalanced, we have used f1 score as the evaluation metric. We have used F1 score because it gives the harmonic mean of precision and recall. Higher value of f1 score means that we have the relative higher values of both precision and recall, i.e. maximizes both precision and recall relatively."
   ]
  },
  {
   "cell_type": "code",
   "execution_count": 34,
   "metadata": {},
   "outputs": [],
   "source": [
    "from sklearn.metrics import f1_score\n",
    "from sklearn.model_selection import GridSearchCV"
   ]
  },
  {
   "cell_type": "code",
   "execution_count": 35,
   "metadata": {},
   "outputs": [
    {
     "data": {
      "text/plain": [
       "(1408, 77)"
      ]
     },
     "execution_count": 35,
     "metadata": {},
     "output_type": "execute_result"
    }
   ],
   "source": [
    "from sklearn.model_selection import train_test_split\n",
    "\n",
    "_, sample_data1, _, sample_target1 = train_test_split(X, Y, shuffle = True, test_size = 0.01, random_state = 0)\n",
    "\n",
    "sample_data1.shape"
   ]
  },
  {
   "cell_type": "code",
   "execution_count": 36,
   "metadata": {},
   "outputs": [],
   "source": [
    "from sklearn.preprocessing import MinMaxScaler\n",
    "\n",
    "X_train_org, X_test_org, y_train, y_test = train_test_split(sample_data1, sample_target1, random_state = 0)\n",
    "scaler = MinMaxScaler()\n",
    "X_train = scaler.fit_transform(X_train_org)\n",
    "X_test = scaler.transform(X_test_org)"
   ]
  },
  {
   "cell_type": "markdown",
   "metadata": {},
   "source": [
    "## K Neighbors Classifier"
   ]
  },
  {
   "cell_type": "code",
   "execution_count": 37,
   "metadata": {},
   "outputs": [
    {
     "name": "stdout",
     "output_type": "stream",
     "text": [
      "Best parameters: {'n_neighbors': 1}\n",
      "Best cross-validation score: 0.87\n",
      "Test set score: 0.86\n",
      "Train f1 score: 1.00\n",
      "Test f1 score: 0.86 \n"
     ]
    }
   ],
   "source": [
    "from sklearn.neighbors import KNeighborsClassifier\n",
    "\n",
    "knn = KNeighborsClassifier()\n",
    "knn_classifier_param_grid = {'n_neighbors': [1, 5, 10, 15, 20]}\n",
    "knn_classifier_grid_search = GridSearchCV(knn, knn_classifier_param_grid, cv=5, return_train_score=True, scoring = 'f1')\n",
    "knn_classifier_grid_search.fit(X_train, y_train)\n",
    "\n",
    "print(\"Best parameters: {}\".format(knn_classifier_grid_search.best_params_))\n",
    "print(\"Best cross-validation score: {:.2f}\".format(knn_classifier_grid_search.best_score_))\n",
    "print(\"Test set score: {:.2f}\".format(knn_classifier_grid_search.score(X_test, y_test)))\n",
    "\n",
    "y_knn_predict = knn_classifier_grid_search.predict(X_test)\n",
    "y_knn_train_predict = knn_classifier_grid_search.predict(X_train)\n",
    "print('Train f1 score: %.2f'%f1_score(y_knn_train_predict, y_train))\n",
    "print('Test f1 score: %.2f '%f1_score(y_knn_predict, y_test))\n",
    "\n",
    "report_table1 = [['knn', knn_classifier_grid_search.best_params_, knn_classifier_grid_search.score(X_train, y_train), knn_classifier_grid_search.score(X_test, y_test), f1_score(y_knn_train_predict, y_train), f1_score(y_knn_predict, y_test) ]]"
   ]
  },
  {
   "cell_type": "code",
   "execution_count": 38,
   "metadata": {},
   "outputs": [
    {
     "data": {
      "text/plain": [
       "[<matplotlib.lines.Line2D at 0x19200071630>,\n",
       " <matplotlib.lines.Line2D at 0x19200071588>]"
      ]
     },
     "execution_count": 38,
     "metadata": {},
     "output_type": "execute_result"
    },
    {
     "data": {
      "image/png": "[encoded data removed]",
      "text/plain": [
       "<Figure size 432x288 with 1 Axes>"
      ]
     },
     "metadata": {},
     "output_type": "display_data"
    }
   ],
   "source": [
    "X_b = X_train[1:200,[2,5]]\n",
    "y_b = y_train[1:200]\n",
    "\n",
    "knn_classifier_grid_search.fit(X_b, y_b)\n",
    "\n",
    "mglearn.plots.plot_2d_separator(knn_classifier_grid_search, X_b, fill=True, eps=0.5, alpha=.4)\n",
    "mglearn.discrete_scatter(X_b[:, 0], X_b[:, 1], y_b)"
   ]
  },
  {
   "cell_type": "markdown",
   "metadata": {},
   "source": [
    "## Logistic Regression"
   ]
  },
  {
   "cell_type": "code",
   "execution_count": 39,
   "metadata": {},
   "outputs": [
    {
     "name": "stdout",
     "output_type": "stream",
     "text": [
      "Best parameters: {'C': 10, 'penalty': 'l1'}\n",
      "Best cross-validation score: 0.91\n",
      "Test set score: 0.91\n",
      "Train f1 score: 0.93\n",
      "Test f1 score: 0.91 \n"
     ]
    }
   ],
   "source": [
    "from sklearn.linear_model import LogisticRegression\n",
    "\n",
    "lreg = LogisticRegression()\n",
    "logreg_param_grid = {'C': [0.001, 0.01, 0.1, 1, 10, 100, 1000], 'penalty': ['l1', 'l2']}\n",
    "logreg_grid_search = GridSearchCV(lreg, logreg_param_grid, cv=5, return_train_score=True, scoring = 'f1')\n",
    "logreg_grid_search.fit(X_train, y_train)\n",
    "\n",
    "print(\"Best parameters: {}\".format(logreg_grid_search.best_params_))\n",
    "print(\"Best cross-validation score: {:.2f}\".format(logreg_grid_search.best_score_))\n",
    "print(\"Test set score: {:.2f}\".format(logreg_grid_search.score(X_test, y_test)))\n",
    "\n",
    "y_logreg_predict = logreg_grid_search.predict(X_test)\n",
    "y_logreg_train_predict = logreg_grid_search.predict(X_train)\n",
    "print('Train f1 score: %.2f'%f1_score(y_logreg_train_predict, y_train))\n",
    "print('Test f1 score: %.2f '%f1_score(y_logreg_predict, y_test))\n",
    "\n",
    "report_table1 = report_table1 + [['Logistic Regression', logreg_grid_search.best_params_, logreg_grid_search.score(X_train, y_train), logreg_grid_search.score(X_test, y_test), f1_score(y_logreg_train_predict, y_train), f1_score(y_logreg_predict, y_test) ]]"
   ]
  },
  {
   "cell_type": "code",
   "execution_count": 40,
   "metadata": {},
   "outputs": [
    {
     "data": {
      "text/plain": [
       "<matplotlib.collections.PolyCollection at 0x19254da67f0>"
      ]
     },
     "execution_count": 40,
     "metadata": {},
     "output_type": "execute_result"
    },
    {
     "data": {
      "image/png": "[encoded data removed]",
      "text/plain": [
       "<Figure size 432x288 with 1 Axes>"
      ]
     },
     "metadata": {},
     "output_type": "display_data"
    }
   ],
   "source": [
    "results = pd.DataFrame(logreg_grid_search.cv_results_)\n",
    "scores = np.array(results.mean_test_score).reshape(7, 2)\n",
    "\n",
    "# plot the mean cross-validation scores\n",
    "mglearn.tools.heatmap(scores, xlabel='penalty', xticklabels=logreg_param_grid['penalty'], ylabel='C', yticklabels=logreg_param_grid['C'], cmap=\"viridis\")"
   ]
  },
  {
   "cell_type": "markdown",
   "metadata": {},
   "source": [
    "## LinearSVC"
   ]
  },
  {
   "cell_type": "code",
   "execution_count": 41,
   "metadata": {},
   "outputs": [
    {
     "name": "stdout",
     "output_type": "stream",
     "text": [
      "Best parameters: {}\n",
      "Best cross-validation score: 0.89\n",
      "Test set score: 0.87\n",
      "Train f1 score: 0.90\n",
      "Test f1 score: 0.87 \n"
     ]
    }
   ],
   "source": [
    "from sklearn.svm import LinearSVC\n",
    "\n",
    "lsvc = LinearSVC()\n",
    "lsvc_param_grid = {}\n",
    "lsvc_grid_search = GridSearchCV(lsvc, lsvc_param_grid, cv=5, return_train_score=True, scoring = 'f1')\n",
    "lsvc_grid_search.fit(X_train, y_train)\n",
    "\n",
    "print(\"Best parameters: {}\".format(lsvc_grid_search.best_params_))\n",
    "print(\"Best cross-validation score: {:.2f}\".format(lsvc_grid_search.best_score_))\n",
    "print(\"Test set score: {:.2f}\".format(lsvc_grid_search.score(X_test, y_test)))\n",
    "\n",
    "y_lsvc_predict = lsvc_grid_search.predict(X_test)\n",
    "y_lsvc_train_predict = lsvc_grid_search.predict(X_train)\n",
    "print('Train f1 score: %.2f'%f1_score(y_lsvc_train_predict, y_train))\n",
    "print('Test f1 score: %.2f '%f1_score(y_lsvc_predict, y_test))\n",
    "\n",
    "report_table1 = report_table1 + [['Linear SVC', lsvc_grid_search.best_params_, lsvc_grid_search.score(X_train, y_train), lsvc_grid_search.score(X_test, y_test), f1_score(y_lsvc_train_predict, y_train), f1_score(y_lsvc_predict, y_test) ]]"
   ]
  },
  {
   "cell_type": "markdown",
   "metadata": {},
   "source": [
    "## SVC with Kernel trick"
   ]
  },
  {
   "cell_type": "code",
   "execution_count": 42,
   "metadata": {},
   "outputs": [
    {
     "name": "stdout",
     "output_type": "stream",
     "text": [
      "Best parameters: {'C': 1000, 'gamma': 0.01}\n",
      "Best cross-validation score: 0.89\n",
      "Test set score: 0.92\n",
      "Train f1 score: 0.91\n",
      "Test f1 score: 0.92 \n"
     ]
    }
   ],
   "source": [
    "from sklearn.svm import SVC\n",
    "\n",
    "svc = SVC()\n",
    "svc_param_grid = {'C': [0.001, 0.01, 0.1, 1, 10, 100, 1000],\n",
    "             'gamma': [0.001, 0.01, 0.1, 1, 10, 100, 1000]}\n",
    "svc_grid_search = GridSearchCV(svc, svc_param_grid, cv=5, return_train_score=True, scoring = 'f1')\n",
    "svc_grid_search.fit(X_train, y_train)\n",
    "\n",
    "print(\"Best parameters: {}\".format(svc_grid_search.best_params_))\n",
    "print(\"Best cross-validation score: {:.2f}\".format(svc_grid_search.best_score_))\n",
    "print(\"Test set score: {:.2f}\".format(svc_grid_search.score(X_test, y_test)))\n",
    "\n",
    "y_svc_predict = svc_grid_search.predict(X_test)\n",
    "y_svc_train_predict = svc_grid_search.predict(X_train)\n",
    "print('Train f1 score: %.2f'%f1_score(y_svc_train_predict, y_train))\n",
    "print('Test f1 score: %.2f '%f1_score(y_svc_predict, y_test))\n",
    "\n",
    "report_table1 = report_table1 + [['SVC', svc_grid_search.best_params_, svc_grid_search.score(X_train, y_train), svc_grid_search.score(X_test, y_test), f1_score(y_svc_train_predict, y_train), f1_score(y_svc_predict, y_test) ]]"
   ]
  },
  {
   "cell_type": "code",
   "execution_count": 43,
   "metadata": {},
   "outputs": [
    {
     "data": {
      "text/plain": [
       "<matplotlib.collections.PolyCollection at 0x19254d946a0>"
      ]
     },
     "execution_count": 43,
     "metadata": {},
     "output_type": "execute_result"
    },
    {
     "data": {
      "image/png": "[encoded data removed]",
      "text/plain": [
       "<Figure size 432x288 with 1 Axes>"
      ]
     },
     "metadata": {},
     "output_type": "display_data"
    }
   ],
   "source": [
    "results = pd.DataFrame(svc_grid_search.cv_results_)\n",
    "scores = np.array(results.mean_test_score).reshape(7, 7)\n",
    "\n",
    "# plot the mean cross-validation scores\n",
    "mglearn.tools.heatmap(scores, xlabel='gamma', xticklabels=svc_param_grid['gamma'], ylabel='C', yticklabels=svc_param_grid['C'], cmap=\"viridis\")"
   ]
  },
  {
   "cell_type": "markdown",
   "metadata": {},
   "source": [
    "## Decision Tree Classifier"
   ]
  },
  {
   "cell_type": "code",
   "execution_count": 44,
   "metadata": {},
   "outputs": [
    {
     "name": "stdout",
     "output_type": "stream",
     "text": [
      "Best parameters: {'max_depth': 1, 'random_state': 0}\n",
      "Best cross-validation score: 0.92\n",
      "Test set score: 0.93\n",
      "Train f1 score: 0.92\n",
      "Test f1 score: 0.93 \n"
     ]
    }
   ],
   "source": [
    "from sklearn.tree import DecisionTreeClassifier\n",
    "\n",
    "dtree = DecisionTreeClassifier()\n",
    "d = np.arange(20)+1\n",
    "dtree_param_grid = {'max_depth': d, 'random_state': [0]}\n",
    "dtree_grid_search = GridSearchCV(dtree, dtree_param_grid, cv=5, return_train_score=True, scoring = 'f1')\n",
    "dtree_grid_search.fit(X_train, y_train)\n",
    "\n",
    "print(\"Best parameters: {}\".format(dtree_grid_search.best_params_))\n",
    "print(\"Best cross-validation score: {:.2f}\".format(dtree_grid_search.best_score_))\n",
    "print(\"Test set score: {:.2f}\".format(dtree_grid_search.score(X_test, y_test)))\n",
    "\n",
    "y_dtree_predict = dtree_grid_search.predict(X_test)\n",
    "y_dtree_train_predict = dtree_grid_search.predict(X_train)\n",
    "print('Train f1 score: %.2f'%f1_score(y_dtree_train_predict, y_train))\n",
    "print('Test f1 score: %.2f '%f1_score(y_dtree_predict, y_test))\n",
    "\n",
    "report_table1 = report_table1 + [['Decision Tree', dtree_grid_search.best_params_, dtree_grid_search.score(X_train, y_train), dtree_grid_search.score(X_test, y_test), f1_score(y_dtree_train_predict, y_train), f1_score(y_dtree_predict, y_test) ]]"
   ]
  },
  {
   "cell_type": "code",
   "execution_count": 45,
   "metadata": {},
   "outputs": [
    {
     "data": {
      "text/plain": [
       "([<matplotlib.axis.XTick at 0x19200baaac8>,\n",
       "  <matplotlib.axis.XTick at 0x19200baa400>,\n",
       "  <matplotlib.axis.XTick at 0x19200baa2e8>,\n",
       "  <matplotlib.axis.XTick at 0x19200bc7550>,\n",
       "  <matplotlib.axis.XTick at 0x19200bc7b70>,\n",
       "  <matplotlib.axis.XTick at 0x19254db3748>,\n",
       "  <matplotlib.axis.XTick at 0x19200bd20f0>,\n",
       "  <matplotlib.axis.XTick at 0x19200bd2550>,\n",
       "  <matplotlib.axis.XTick at 0x19200bd2a20>,\n",
       "  <matplotlib.axis.XTick at 0x19200bd2ef0>,\n",
       "  <matplotlib.axis.XTick at 0x19200bd9400>,\n",
       "  <matplotlib.axis.XTick at 0x19200bd9908>,\n",
       "  <matplotlib.axis.XTick at 0x19200bd9e10>,\n",
       "  <matplotlib.axis.XTick at 0x19200be1358>,\n",
       "  <matplotlib.axis.XTick at 0x19200bd99e8>,\n",
       "  <matplotlib.axis.XTick at 0x19200bd2518>,\n",
       "  <matplotlib.axis.XTick at 0x19200be1710>,\n",
       "  <matplotlib.axis.XTick at 0x19200be1c18>,\n",
       "  <matplotlib.axis.XTick at 0x19200beb198>,\n",
       "  <matplotlib.axis.XTick at 0x19200beb668>],\n",
       " <a list of 20 Text xticklabel objects>)"
      ]
     },
     "execution_count": 45,
     "metadata": {},
     "output_type": "execute_result"
    },
    {
     "data": {
      "image/png": "[encoded data removed]",
      "text/plain": [
       "<Figure size 432x288 with 1 Axes>"
      ]
     },
     "metadata": {},
     "output_type": "display_data"
    }
   ],
   "source": [
    "results = pd.DataFrame(dtree_grid_search.cv_results_)\n",
    "test_scores = np.array(results.mean_test_score)\n",
    "train_scores = np.array(results.mean_train_score)\n",
    "\n",
    "x_axis = range(1,21)\n",
    "my_xticks = dtree_param_grid['max_depth']\n",
    "plt.plot(x_axis, train_scores, c = 'g', label = 'Train Score')\n",
    "plt.plot(x_axis, test_scores, c = 'b', label = 'Test Score')\n",
    "plt.legend()\n",
    "plt.xlabel('max_depth')\n",
    "plt.ylabel('accuracy')\n",
    "plt.xticks(x_axis, my_xticks)"
   ]
  },
  {
   "cell_type": "code",
   "execution_count": 46,
   "metadata": {},
   "outputs": [],
   "source": [
    "report1 = pd.DataFrame(report_table1,columns = ['Model name', 'Model parameter', 'Train accuracy', 'Test accuracy', 'Train f1 score', 'Test f1 score'])"
   ]
  },
  {
   "cell_type": "code",
   "execution_count": 47,
   "metadata": {},
   "outputs": [
    {
     "data": {
      "text/html": [
       "<div>\n",
       "<style scoped>\n",
       "    .dataframe tbody tr th:only-of-type {\n",
       "        vertical-align: middle;\n",
       "    }\n",
       "\n",
       "    .dataframe tbody tr th {\n",
       "        vertical-align: top;\n",
       "    }\n",
       "\n",
       "    .dataframe thead th {\n",
       "        text-align: right;\n",
       "    }\n",
       "</style>\n",
       "<table border=\"1\" class=\"dataframe\">\n",
       "  <thead>\n",
       "    <tr style=\"text-align: right;\">\n",
       "      <th></th>\n",
       "      <th>Model name</th>\n",
       "      <th>Model parameter</th>\n",
       "      <th>Train accuracy</th>\n",
       "      <th>Test accuracy</th>\n",
       "      <th>Train f1 score</th>\n",
       "      <th>Test f1 score</th>\n",
       "    </tr>\n",
       "  </thead>\n",
       "  <tbody>\n",
       "    <tr>\n",
       "      <th>0</th>\n",
       "      <td>knn</td>\n",
       "      <td>{'n_neighbors': 1}</td>\n",
       "      <td>1.000000</td>\n",
       "      <td>0.860759</td>\n",
       "      <td>1.000000</td>\n",
       "      <td>0.860759</td>\n",
       "    </tr>\n",
       "    <tr>\n",
       "      <th>1</th>\n",
       "      <td>Logistic Regression</td>\n",
       "      <td>{'C': 10, 'penalty': 'l1'}</td>\n",
       "      <td>0.927318</td>\n",
       "      <td>0.905660</td>\n",
       "      <td>0.927318</td>\n",
       "      <td>0.905660</td>\n",
       "    </tr>\n",
       "    <tr>\n",
       "      <th>2</th>\n",
       "      <td>Linear SVC</td>\n",
       "      <td>{}</td>\n",
       "      <td>0.897436</td>\n",
       "      <td>0.868421</td>\n",
       "      <td>0.897436</td>\n",
       "      <td>0.868421</td>\n",
       "    </tr>\n",
       "    <tr>\n",
       "      <th>3</th>\n",
       "      <td>SVC</td>\n",
       "      <td>{'C': 1000, 'gamma': 0.01}</td>\n",
       "      <td>0.914141</td>\n",
       "      <td>0.925000</td>\n",
       "      <td>0.914141</td>\n",
       "      <td>0.925000</td>\n",
       "    </tr>\n",
       "    <tr>\n",
       "      <th>4</th>\n",
       "      <td>Decision Tree</td>\n",
       "      <td>{'max_depth': 1, 'random_state': 0}</td>\n",
       "      <td>0.921951</td>\n",
       "      <td>0.932515</td>\n",
       "      <td>0.921951</td>\n",
       "      <td>0.932515</td>\n",
       "    </tr>\n",
       "  </tbody>\n",
       "</table>\n",
       "</div>"
      ],
      "text/plain": [
       "            Model name                      Model parameter  Train accuracy  \\\n",
       "0                  knn                   {'n_neighbors': 1}        1.000000   \n",
       "1  Logistic Regression           {'C': 10, 'penalty': 'l1'}        0.927318   \n",
       "2           Linear SVC                                   {}        0.897436   \n",
       "3                  SVC           {'C': 1000, 'gamma': 0.01}        0.914141   \n",
       "4        Decision Tree  {'max_depth': 1, 'random_state': 0}        0.921951   \n",
       "\n",
       "   Test accuracy  Train f1 score  Test f1 score  \n",
       "0       0.860759        1.000000       0.860759  \n",
       "1       0.905660        0.927318       0.905660  \n",
       "2       0.868421        0.897436       0.868421  \n",
       "3       0.925000        0.914141       0.925000  \n",
       "4       0.932515        0.921951       0.932515  "
      ]
     },
     "execution_count": 47,
     "metadata": {},
     "output_type": "execute_result"
    }
   ],
   "source": [
    "report1"
   ]
  },
  {
   "cell_type": "markdown",
   "metadata": {},
   "source": [
    "## Best Model\n",
    "The best model is Decision Tree because it has a highest test f1 score and the difference between the train and test f1 score is the least. The best parameter value is max_depth of 1. Training on the entire dataset gives the following result:"
   ]
  },
  {
   "cell_type": "code",
   "execution_count": 48,
   "metadata": {},
   "outputs": [
    {
     "name": "stdout",
     "output_type": "stream",
     "text": [
      "Train set score: 0.96\n",
      "Test set score: 0.96\n"
     ]
    }
   ],
   "source": [
    "X_train_org, X_test_org, y_train, y_test = train_test_split(X, Y, random_state = 0)\n",
    "scaler = MinMaxScaler()\n",
    "X_train = scaler.fit_transform(X_train_org)\n",
    "X_test = scaler.transform(X_test_org)\n",
    "\n",
    "dtree = DecisionTreeClassifier(max_depth=1, random_state=0)\n",
    "dtree.fit(X_train,y_train)\n",
    "\n",
    "print(\"Train set score: {:.2f}\".format(dtree.score(X_train, y_train)))\n",
    "print(\"Test set score: {:.2f}\".format(dtree.score(X_test, y_test)))"
   ]
  }
 ],
 "metadata": {
  "kernelspec": {
   "display_name": "Python 3",
   "language": "python",
   "name": "python3"
  },
  "language_info": {
   "codemirror_mode": {
    "name": "ipython",
    "version": 3
   },
   "file_extension": ".py",
   "mimetype": "text/x-python",
   "name": "python",
   "nbconvert_exporter": "python",
   "pygments_lexer": "ipython3",
   "version": "3.6.7"
  }
 },
 "nbformat": 4,
 "nbformat_minor": 2
}
